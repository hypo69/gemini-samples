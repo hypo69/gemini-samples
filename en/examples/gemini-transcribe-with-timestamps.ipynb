{
 "cells": [
  {
   "cell_type": "markdown",
   "metadata": {},
   "source": [
    "# Google Gemini 2.0 for Podcast and Audio Transcription\n",
    "\n",
    "Gemini 2.0 can transcribe audio files like podcasts or call recordings. The model generates detailed transcripts with precise timestamps to the second [00:00] and automatically identifies different speakers. It can detect and label special audio events such as background music (even identifying specific songs), sound effects like bells ringing, and named jingles.\n",
    "\n",
    "\n",
    "You can learn more about working with Gemini here:\n",
    "- https://ai.google.dev/gemini-api/docs/audio?lang=python"
   ]
  },
  {
   "cell_type": "code",
   "execution_count": null,
   "metadata": {},
   "outputs": [],
   "source": [
    "%pip install google-genai jinja2"
   ]
  },
  {
   "cell_type": "code",
   "execution_count": null,
   "metadata": {},
   "outputs": [],
   "source": [
    "import os\n",
    "from google import genai\n",
    "\n",
    "# create client\n",
    "api_key = os.getenv(\"GEMINI_API_KEY\",\"xxx\")\n",
    "client = genai.Client(api_key=api_key)"
   ]
  },
  {
   "cell_type": "code",
   "execution_count": 15,
   "metadata": {},
   "outputs": [
    {
     "name": "stdout",
     "output_type": "stream",
     "text": [
      "[00:00] John: If the Porsche Macan has proven anything, it's that the days of sacrificing performance for practicality are gone.\n",
      "[00:06] John: Long gone.\n",
      "[00:08] John: Engineered to deliver a driving experience like no other, the Macan has demonstrated excellence in style and performance to become the leading sports car in its class.\n",
      "[00:17] John: So don't let those five doors fool you.\n",
      "[00:20] John: Once you're in the driver's seat, one thing will become immediately clear.\n",
      "[00:25] [Sound of Porsche Engine Reving]\n",
      "[00:27] John: This is a Porsche.\n",
      "[00:30] John: The Macan, now leasing from 3.99%.\n",
      "[00:35] John: Conditions apply.\n",
      "[00:38] [Low Frequency Sound]\n",
      "[END]\n"
     ]
    }
   ],
   "source": [
    "from jinja2 import Template\n",
    "\n",
    "\n",
    "# path to the file to upload\n",
    "file_path = \"../assets/porsche.mp3\" # Repalce with your own file path\n",
    "\n",
    "# Upload the file to the File API\n",
    "file = client.files.upload(file=file_path)\n",
    "\n",
    "# Generate a structured response using the Gemini API\n",
    "prompt_template = Template(\"\"\"Generate a transcript of the episode. Include timestamps and identify speakers.\n",
    "\n",
    "Speakers are: \n",
    "{% for speaker in speakers %}- {{ speaker }}{% if not loop.last %}\\n{% endif %}{% endfor %}\n",
    "\n",
    "eg:\n",
    "[00:00] Brady: Hello there.\n",
    "[00:02] Tim: Hi Brady.\n",
    "\n",
    "It is important to include the correct speaker names. Use the names you identified earlier. If you really don't know the speaker's name, identify them with a letter of the alphabet, eg there may be an unknown speaker 'A' and another unknown speaker 'B'.\n",
    "\n",
    "If there is music or a short jingle playing, signify like so:\n",
    "[01:02] [MUSIC] or [01:02] [JINGLE]\n",
    "\n",
    "If you can identify the name of the music or jingle playing then use that instead, eg:\n",
    "[01:02] [Firework by Katy Perry] or [01:02] [The Sofa Shop jingle]\n",
    "\n",
    "If there is some other sound playing try to identify the sound, eg:\n",
    "[01:02] [Bell ringing]\n",
    "\n",
    "Each individual caption should be quite short, a few short sentences at most.\n",
    "\n",
    "Signify the end of the episode with [END].\n",
    "\n",
    "Don't use any markdown formatting, like bolding or italics.\n",
    "\n",
    "Only use characters from the English alphabet, unless you genuinely believe foreign characters are correct.\n",
    "\n",
    "It is important that you use the correct words and spell everything correctly. Use the context of the podcast to help.\n",
    "If the hosts discuss something like a movie, book or celebrity, make sure the movie, book, or celebrity name is spelled correctly.\"\"\")\n",
    "\n",
    "# Define the speakers and render the prompt\n",
    "speakers = [\"John\"]\n",
    "prompt = prompt_template.render(speakers=speakers)\n",
    "\n",
    "response = client.models.generate_content(\n",
    "    model=\"gemini-2.0-flash\",\n",
    "    contents=[prompt, file],\n",
    ")\n",
    "\n",
    "print(response.text)"
   ]
  },
  {
   "cell_type": "code",
   "execution_count": null,
   "metadata": {},
   "outputs": [],
   "source": []
  }
 ],
 "metadata": {
  "kernelspec": {
   "display_name": ".venv",
   "language": "python",
   "name": "python3"
  },
  "language_info": {
   "codemirror_mode": {
    "name": "ipython",
    "version": 3
   },
   "file_extension": ".py",
   "mimetype": "text/x-python",
   "name": "python",
   "nbconvert_exporter": "python",
   "pygments_lexer": "ipython3",
   "version": "3.11.11"
  }
 },
 "nbformat": 4,
 "nbformat_minor": 2
}
