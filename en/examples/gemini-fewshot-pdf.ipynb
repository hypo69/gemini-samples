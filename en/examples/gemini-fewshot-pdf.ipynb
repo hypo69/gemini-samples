{
 "cells": [
  {
   "cell_type": "markdown",
   "metadata": {},
   "source": [
    "# Few-shot prompting with PDFs and Gemini\n",
    "\n",
    "This notebook shows how to use few-shot prompting with multimodal inputs, specifically PDFs, with the Gemini API. Few-shot prompting is a powerful technique where you provide examples of the task you want the model to perform within the prompt. By showing the model a few examples of inputs and desired outputs, you can guide it to generate more accurate and contextually appropriate responses.\n",
    "\n",
    "This is achieved by constructing a series of `Content` objects with alternating `\"user\"` and `\"model\"` roles.\n",
    "\n",
    "Let's get started!"
   ]
  },
  {
   "cell_type": "code",
   "execution_count": null,
   "metadata": {},
   "outputs": [],
   "source": [
    "from google import genai\n",
    "import httpx\n",
    "import io\n",
    "from google.genai.types import Content, FileData, GenerateContentConfig, Part\n",
    "\n",
    "client = genai.Client()\n",
    "\n",
    "\n",
    "def upload_pdf(file_url: str) -> Part:\n",
    "    doc_io = io.BytesIO(httpx.get(file_url).content)\n",
    "    file = client.files.upload(\n",
    "        file=doc_io,\n",
    "        config=dict(mime_type='application/pdf')\n",
    "    )\n",
    "    return Part(file_data=FileData(mime_type=file.mime_type, file_uri=file.uri))\n",
    "\n",
    "\n",
    "example_files = [\n",
    "    \"https://arxiv.org/pdf/2503.10622\",\n",
    "    \"https://arxiv.org/pdf/2503.10613\",\n",
    "]\n",
    "\n",
    "example_outputs = [\n",
    "    \"This paper is about Transformers without normalization.\",\n",
    "    \"This paper is about improving text-to-image models for multi-turn image editing.\",\n",
    "]\n",
    "\n",
    "text_part = Part(text=\"Provide a one-sentence summary of this paper\")\n",
    "\n",
    "messages = []\n",
    "\n",
    "# add few-shot examples\n",
    "for file_url, output in zip(example_files, example_outputs):\n",
    "    pdf_part = upload_pdf(file_url)\n",
    "    messages.extend(\n",
    "        [\n",
    "            Content(role=\"user\", parts=[pdf_part, text_part]),\n",
    "            Content(role=\"model\", parts=[Part(text=output)]),\n",
    "        ]\n",
    "    )\n",
    "\n",
    "# add new query\n",
    "pdf_url = \"https://arxiv.org/pdf/2503.10633\"\n",
    "pdf_part = upload_pdf(pdf_url)\n",
    "messages.append(\n",
    "    Content(role=\"user\", parts=[pdf_part, text_part])\n",
    ")\n",
    "\n",
    "system_prompt = \"You are a helpful assistant that can generate one-line summaries of papers.\"\n",
    "response = client.models.generate_content(\n",
    "    model=\"gemini-2.5-flash\",\n",
    "    config=GenerateContentConfig(system_instruction=system_prompt),\n",
    "    contents=messages,\n",
    ")\n",
    "\n",
    "print(response.text)"
   ]
  },
  {
   "cell_type": "code",
   "execution_count": null,
   "metadata": {},
   "outputs": [],
   "source": []
  }
 ],
 "metadata": {
  "kernelspec": {
   "display_name": ".venv",
   "language": "python",
   "name": "python3"
  },
  "language_info": {
   "codemirror_mode": {
    "name": "ipython",
    "version": 3
   },
   "file_extension": ".py",
   "mimetype": "text/x-python",
   "name": "python",
   "nbconvert_exporter": "python",
   "pygments_lexer": "ipython3",
   "version": "3.13.2"
  }
 },
 "nbformat": 4,
 "nbformat_minor": 2
}
