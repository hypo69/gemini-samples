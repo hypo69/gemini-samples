{
 "cells": [
  {
   "cell_type": "markdown",
   "metadata": {},
   "source": [
    "# Google Gemini 2.5 Pro for Podcast and YouTube Understanding & Transcription\n",
    "\n",
    "Gemini **2.5 Pro** significantly enhances video and audio understanding through its advanced reasoning and exceptionally large context window (up to 1 million tokens). This massive capacity allows it to process substantial inputs, enabling tasks like analyzing a 30-minute video (which consumes roughly 500k tokens including audio and sampled frames) or transcribing hours of audio content in a single pass.\n",
    "\n",
    "**Audio & Podcast Transcription:**\n",
    "\n",
    "*   Generates precise transcripts with second-level [MM:SS] timestamps, automatic speaker identification (diarization), and detection/labeling of audio events like background music (even identifying specific songs), sound effects (e.g., bells), and named jingles.\n",
    "*   15 minute audio equalls to roughly 8k output token. Leading to a total single request transcription of ~2h. As Gemini 2.5 Pro has now a 64k context output\n",
    "*   Its 1 million token context window capably handles extensive recordings, processing hours of audio content seamlessly.\n",
    "\n",
    "**YouTube Video Understanding & Interaction:**\n",
    "\n",
    "*   Public YouTube URLs directly via the API and AI Studio, analyzing both the audio track and visual frames (sampled at ~1 frame per second).\n",
    "*   Ask Gemini **2.5 Pro** to summarize, answer specific questions, translate spoken content, transcribe audio, or provide visual descriptions. Interact with specific moments using `MM:SS` timestamps in prompts (e.g., `\"What examples are given at 01:05?\"`) and request combined outputs like transcriptions alongside visual descriptions in one go.\n",
    "*   Supports public videos only (no private or unlisted), daily processing limit: 8 hours of YouTube video content, one video URL per API request.\n",
    "\n",
    "**Learn More & Get Started:**\n",
    "\n",
    "Explore the documentation to implement these features with **Gemini 2.5 Pro**:\n",
    "\n",
    "*   **Working with Audio Files:** [https://ai.google.dev/gemini-api/docs/audio?lang=python](https://ai.google.dev/gemini-api/docs/audio?lang=python)\n",
    "*   **Working with Video (including YouTube URLs):** [https://ai.google.dev/gemini-api/docs/vision?lang=python#youtube](https://ai.google.dev/gemini-api/docs/vision?lang=python#youtube)\n"
   ]
  },
  {
   "cell_type": "code",
   "execution_count": null,
   "metadata": {},
   "outputs": [],
   "source": [
    "%pip install google-genai jinja2"
   ]
  },
  {
   "cell_type": "code",
   "execution_count": null,
   "metadata": {},
   "outputs": [],
   "source": [
    "import os\n",
    "from google import genai\n",
    "from google.genai import types\n",
    "# create client\n",
    "api_key = os.getenv(\"GEMINI_API_KEY\",\"xxx\")\n",
    "client = genai.Client(api_key=api_key)"
   ]
  },
  {
   "cell_type": "markdown",
   "metadata": {},
   "source": [
    "## Podcast Example\n"
   ]
  },
  {
   "cell_type": "code",
   "execution_count": 3,
   "metadata": {},
   "outputs": [
    {
     "name": "stdout",
     "output_type": "stream",
     "text": [
      "[00:00] John: If the Porsche Macan has proven anything,\n",
      "[00:02] John: it's that the days of sacrificing performance for practicality\n",
      "[00:05] John: are gone.\n",
      "[00:06] John: Long gone.\n",
      "[00:08] John: Engineered to deliver a driving experience like no other,\n",
      "[00:11] John: the Macan has demonstrated excellence in style and performance\n",
      "[00:14] John: to become the leading sports car in its class.\n",
      "[00:17] John: So don't let those five doors fool you.\n",
      "[00:19] John: Once you're in the driver's seat,\n",
      "[00:20] John: one thing will become immediately clear.\n",
      "[00:23] John: This\n",
      "[00:24] John: is a Porsche.\n",
      "[00:25] John: The Macan.\n",
      "[00:26] John: Now leasing from 3.99%.\n",
      "[00:29] John: Conditions apply.\n",
      "[00:31] [SOUND]\n",
      "[00:31] [END]\n"
     ]
    }
   ],
   "source": [
    "from jinja2 import Template\n",
    "\n",
    "\n",
    "# path to the file to upload\n",
    "file_path = \"../assets/porsche.mp3\" # Repalce with your own file path\n",
    "\n",
    "# Upload the file to the File API\n",
    "file = client.files.upload(file=file_path)\n",
    "\n",
    "# Generate a structured response using the Gemini API\n",
    "prompt_template = Template(\"\"\"Generate a transcript of the episode. Include timestamps and identify speakers.\n",
    "\n",
    "Speakers are: \n",
    "{% for speaker in speakers %}- {{ speaker }}{% if not loop.last %}\\n{% endif %}{% endfor %}\n",
    "\n",
    "eg:\n",
    "[00:00] Brady: Hello there.\n",
    "[00:02] Tim: Hi Brady.\n",
    "\n",
    "It is important to include the correct speaker names. Use the names you identified earlier. If you really don't know the speaker's name, identify them with a letter of the alphabet, eg there may be an unknown speaker 'A' and another unknown speaker 'B'.\n",
    "\n",
    "If there is music or a short jingle playing, signify like so:\n",
    "[01:02] [MUSIC] or [01:02] [JINGLE]\n",
    "\n",
    "If you can identify the name of the music or jingle playing then use that instead, eg:\n",
    "[01:02] [Firework by Katy Perry] or [01:02] [The Sofa Shop jingle]\n",
    "\n",
    "If there is some other sound playing try to identify the sound, eg:\n",
    "[01:02] [Bell ringing]\n",
    "\n",
    "Each individual caption should be quite short, a few short sentences at most.\n",
    "\n",
    "Signify the end of the episode with [END].\n",
    "\n",
    "Don't use any markdown formatting, like bolding or italics.\n",
    "\n",
    "Only use characters from the English alphabet, unless you genuinely believe foreign characters are correct.\n",
    "\n",
    "It is important that you use the correct words and spell everything correctly. Use the context of the podcast to help.\n",
    "If the hosts discuss something like a movie, book or celebrity, make sure the movie, book, or celebrity name is spelled correctly.\"\"\")\n",
    "\n",
    "# Define the speakers and render the prompt\n",
    "speakers = [\"John\"]\n",
    "prompt = prompt_template.render(speakers=speakers)\n",
    "\n",
    "response = client.models.generate_content(\n",
    "    model=\"gemini-2.5-pro-exp-03-25\",\n",
    "    contents=[prompt, file],\n",
    ")\n",
    "\n",
    "print(response.text)"
   ]
  },
  {
   "cell_type": "markdown",
   "metadata": {},
   "source": [
    "## Youtube Example\n"
   ]
  },
  {
   "cell_type": "code",
   "execution_count": null,
   "metadata": {},
   "outputs": [
    {
     "name": "stdout",
     "output_type": "stream",
     "text": [
      "Okay, here's an analysis of the YouTube video content based on the provided information:\n",
      "\n",
      "1.  **Main Thesis/Claim:** The creator claims that Google's newly released Gemini 2.5 Pro is the best coding AI they have ever used, particularly highlighting its strength in code refactoring and generation compared to other models, despite some weaknesses.\n",
      "\n",
      "2.  **Key Topics:**\n",
      "    *   **AI Model:** Google Gemini 2.5 Pro (Experimental 03-25 version).\n",
      "    *   **Comparisons:** Compared implicitly and explicitly to other models like Claude 3.7 Sonnet, Claude 3.5 Sonnet, O3-mini, GPT-4.5, Grok 3 Beta based on benchmarks and performance.\n",
      "    *   **Coding Tasks & Examples:**\n",
      "        *   **Game Generation:**\n",
      "            *   Ultimate Tic-Tac-Toe (Java, Swing): Successfully generated in one attempt (\"one-shot\").\n",
      "            *   Kitten Cannon Clone (p5.js): Generated functional game after three prompts (initial prompt + two debugging prompts for errors).\n",
      "        *   **UI/Front-End Generation:**\n",
      "            *   Landing Page from Mockup (Vite, React, Tailwind CSS): Performed poorly, didn't replicate the design well.\n",
      "            *   X (Twitter) UI Clone (HTML, CSS, using Google Search grounding): Created a basic, static visual representation.\n",
      "        *   **Code Refactoring:**\n",
      "            *   Refactoring Rust code (Advent of Code problem): Highly successful, converting `for` loops to idiomatic Rust iterators (`iter()`, `.map()`, `.filter()`, `.collect()`, `.all()`, `.any()`), considered superior to other AI attempts.\n",
      "    *   **Benchmarking:** Discussed benchmarks including Reasoning & Knowledge (Humanity's Last Exam), Science (GPQA diamond), Mathematics (AIME 2025), Code Generation (LiveCodeBench v5), Code Editing (Aider Polyglot), and Agentic Coding (SWE-bench verified).\n",
      "    *   **AI Capabilities:** Tested knowledge cutoff/recency (ReactJS version) and the effectiveness of \"Grounding with Google Search\".\n",
      "    *   **Tools:** Used Google AI Studio and the p5.js Web Editor.\n",
      "\n",
      "3.  **Call to Action:**\n",
      "    *   Asks viewers if they have used Gemini 2.5 Pro Experimental for coding or other tasks and requests they share their thoughts in the comments (11:05).\n",
      "    *   Standard YouTube requests to subscribe, like, and enable the notification bell (11:15).\n",
      "\n",
      "4.  **Summary:**\n",
      "    The creator reviews Google's Gemini 2.5 Pro, declaring it the best coding AI they've used based on several tests. It successfully generated a complex Ultimate Tic-Tac-Toe game in Java/Swing in one shot and a p5.js game after some debugging. However, it performed poorly when asked to create a landing page from a mockup using React/Tailwind. It impressively refactored complex Rust code using iterators, outperforming other models. While benchmarks show mixed results in coding compared to competitors, the creator finds its real-world coding and refactoring capabilities \"awesome,\" particularly considering its low cost, though notes front-end generation is a weak point. They ask viewers for their experiences with the model.\n"
     ]
    }
   ],
   "source": [
    "from google.genai import types\n",
    "\n",
    "youtube_url = \"https://www.youtube.com/watch?v=RDOMKIw1aF4\" # Repalce with the youtube url you want to analyze\n",
    "\n",
    "prompt = \"\"\"Analyze the following YouTube video content. Provide a concise summary covering:\n",
    "\n",
    "1.  **Main Thesis/Claim:** What is the central point the creator is making?\n",
    "2.  **Key Topics:** List the main subjects discussed, referencing specific examples or technologies mentioned (e.g., AI models, programming languages, projects).\n",
    "3.  **Call to Action:** Identify any explicit requests made to the viewer.\n",
    "4.  **Summary:** Provide a concise summary of the video content.\n",
    "\n",
    "Use the provided title, chapter timestamps/descriptions, and description text for your analysis.\"\"\"\n",
    "\n",
    "# Analyze the video\n",
    "response = client.models.generate_content(\n",
    "    model=\"gemini-2.5-pro-exp-03-25\",\n",
    "    contents=types.Content(\n",
    "        parts=[\n",
    "            types.Part(text=prompt),\n",
    "            types.Part(\n",
    "                file_data=types.FileData(file_uri=youtube_url)\n",
    "            )\n",
    "        ]\n",
    "    )\n",
    ")\n",
    "\n",
    "print(response.text)"
   ]
  },
  {
   "cell_type": "code",
   "execution_count": null,
   "metadata": {},
   "outputs": [],
   "source": []
  }
 ],
 "metadata": {
  "kernelspec": {
   "display_name": ".venv",
   "language": "python",
   "name": "python3"
  },
  "language_info": {
   "codemirror_mode": {
    "name": "ipython",
    "version": 3
   },
   "file_extension": ".py",
   "mimetype": "text/x-python",
   "name": "python",
   "nbconvert_exporter": "python",
   "pygments_lexer": "ipython3",
   "version": "3.11.11"
  }
 },
 "nbformat": 4,
 "nbformat_minor": 2
}
