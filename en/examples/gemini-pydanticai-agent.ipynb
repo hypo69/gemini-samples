{
 "cells": [
  {
   "cell_type": "markdown",
   "metadata": {},
   "source": [
    "# Gemini with Pydantic-AI\n",
    "\n",
    "This notebook demonstrates how to build a simple conversational agent using Google's Gemini models and the `pydantic-ai` library. The agent can use tools, like fetching weather information, based on the conversation context.\n",
    "\n",
    "Learn more about `pydantic-ai` here: [https://github.com/pydantic-ai/pydantic-ai](https://github.com/pydantic-ai/pydantic-ai)"
   ]
  },
  {
   "cell_type": "code",
   "execution_count": null,
   "metadata": {},
   "outputs": [],
   "source": [
    "%pip install pydantic-ai"
   ]
  },
  {
   "cell_type": "code",
   "execution_count": 2,
   "metadata": {},
   "outputs": [
    {
     "data": {
      "text/plain": [
       "AgentRunResult(data='Yes, it looks like it will be warmer in Munich on March 12, 2025. The temperature in Munich will range from 3-6 degrees Celsius in the early morning, increasing to 9-10 degrees Celsius during the afternoon, and then decreasing to 6-9 degrees Celsius in the evening.\\n')"
      ]
     },
     "execution_count": 2,
     "metadata": {},
     "output_type": "execute_result"
    }
   ],
   "source": [
    "from pydantic_ai import Agent\n",
    "from geopy.geocoders import Nominatim\n",
    "import requests\n",
    "\n",
    "geolocator = Nominatim(user_agent=\"weather-app\") \n",
    "\n",
    "weather = Agent('google-gla:gemini-2.0-flash')\n",
    "\n",
    "\n",
    "@weather.tool_plain(docstring_format='google', require_parameter_descriptions=True)\n",
    "async def get_weather_forecast(location: str, date: str):\n",
    "    \"\"\"Retrieves the weather using Open-Meteo API for a given location (city) and a date (yyyy-mm-dd). Returns a list dictionary with the time and temperature for each hour.\n",
    "    \n",
    "    Args:\n",
    "        location: The city and state, e.g., San Francisco\n",
    "        date: the forecasting date for when to get the weather format (yyyy-mm-dd)\n",
    "    \"\"\"\n",
    "    \n",
    "    location = geolocator.geocode(location)\n",
    "    if location:\n",
    "        try:\n",
    "            response = requests.get(f\"https://api.open-meteo.com/v1/forecast?latitude={location.latitude}&longitude={location.longitude}&hourly=temperature_2m&start_date={date}&end_date={date}\")\n",
    "            data = response.json()\n",
    "            return {time: temp for time, temp in zip(data[\"hourly\"][\"time\"], data[\"hourly\"][\"temperature_2m\"])}\n",
    "        except Exception as e:\n",
    "            return {\"error\": str(e)}\n",
    "    else:\n",
    "        return {\"error\": \"Location not found\"}\n",
    "    \n",
    "# res_1 = await weather.run(\"What is the weather in Berlin on 12th of March 2025?\")\n",
    "res_1 = await weather.run(\"How is the weather in Berlin on 12th of March 2025?\")\n",
    "# res_2 = await weather.run(\"Would it be warmer in Munich?\", message_history=res_1.new_messages())\n",
    "res_2 = await weather.run(\"Would it be in Munich warmer?\", message_history=res_1.new_messages())\n",
    "\n",
    "res_2"
   ]
  },
  {
   "cell_type": "code",
   "execution_count": null,
   "metadata": {},
   "outputs": [],
   "source": []
  }
 ],
 "metadata": {
  "kernelspec": {
   "display_name": ".venv",
   "language": "python",
   "name": "python3"
  },
  "language_info": {
   "codemirror_mode": {
    "name": "ipython",
    "version": 3
   },
   "file_extension": ".py",
   "mimetype": "text/x-python",
   "name": "python",
   "nbconvert_exporter": "python",
   "pygments_lexer": "ipython3",
   "version": "3.11.11"
  }
 },
 "nbformat": 4,
 "nbformat_minor": 2
}
