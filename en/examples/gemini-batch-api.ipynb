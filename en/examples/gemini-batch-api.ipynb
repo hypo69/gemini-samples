{
 "cells": [
  {
   "cell_type": "markdown",
   "metadata": {},
   "source": [
    "# Batch Jobs with Gemini\n",
    "\n",
    "This notebook demonstrates how to use the Gemini API's Batch Mode. This feature is designed to process large volumes of non-urgent requests asynchronously.\n",
    "\n",
    "Key benefits of using Batch Mode include:\n",
    "- **Cost-Effective**: Priced at 50% of the standard cost for the same model.\n",
    "- **High Throughput**: Ideal for large-scale data processing, pre-processing, or evaluations.\n",
    "- **Asynchronous**: Submit jobs and retrieve results later, with a target turnaround of 24 hours (though often much faster).\n",
    "\n",
    "You can submit batch requests in two ways:\n",
    "1.  **Inline Requests**: For smaller batches, directly including requests in the API call.\n",
    "2.  **Input File**: For larger batches, using a JSON Lines (JSONL) file uploaded to the Google AI File API.\n",
    "\n",
    "This guide will walk you through both methods."
   ]
  },
  {
   "cell_type": "code",
   "execution_count": null,
   "metadata": {},
   "outputs": [],
   "source": [
    "%uv pip install google-genai --upgrade"
   ]
  },
  {
   "cell_type": "markdown",
   "metadata": {},
   "source": [
    "## Setup\n",
    "\n",
    "Import the necessary libraries and configure your API key. Remember to set your `GEMINI_API_KEY` as an environment variable."
   ]
  },
  {
   "cell_type": "code",
   "execution_count": 2,
   "metadata": {},
   "outputs": [],
   "source": [
    "import google.genai as genai\n",
    "from google.genai import types\n",
    "\n",
    "client = genai.Client()"
   ]
  },
  {
   "cell_type": "markdown",
   "metadata": {},
   "source": [
    "## 1. Inline Requests\n",
    "\n",
    "For smaller batches, you can embed the requests directly in your call. This is convenient for a handful of prompts."
   ]
  },
  {
   "cell_type": "code",
   "execution_count": null,
   "metadata": {},
   "outputs": [
    {
     "name": "stdout",
     "output_type": "stream",
     "text": [
      "Created batch job: batches/xg0jgclsevahb3nb79ne9wt3xsldeqmjk63q\n"
     ]
    }
   ],
   "source": [
    "# A list of dictionaries, where each is a GenerateContentRequest\n",
    "inline_requests = [\n",
    "    {\n",
    "        'contents': [{\n",
    "            'parts': [{'text': 'Tell me a one-sentence joke.'}],\n",
    "            'role': 'user'\n",
    "        }]\n",
    "    },\n",
    "    {\n",
    "        'contents': [{\n",
    "            'parts': [{'text': 'Why is the sky blue?'}],\n",
    "            'role': 'user'\n",
    "        }]\n",
    "    }\n",
    "]\n",
    "\n",
    "# Create the batch job\n",
    "inline_batch_job = client.batches.create(\n",
    "    model=\"gemini-2.5-flash\", # Or another supported model\n",
    "    src=inline_requests,\n",
    "    config={\n",
    "        'display_name': \"inlined-requests-job-1\",\n",
    "    },\n",
    ")\n",
    "\n",
    "print(f\"Created batch job: {inline_batch_job.name}\")"
   ]
  },
  {
   "cell_type": "markdown",
   "metadata": {},
   "source": [
    "### Monitor the Job and Retrieve Results\n",
    "\n",
    "After creating a job, you need to poll its status until it completes. A job can be `JOB_STATE_PENDING`, `JOB_STATE_SUCCEEDED`, `JOB_STATE_FAILED`, or `JOB_STATE_CANCELLED`."
   ]
  },
  {
   "cell_type": "code",
   "execution_count": 48,
   "metadata": {},
   "outputs": [
    {
     "name": "stdout",
     "output_type": "stream",
     "text": [
      "Polling status for job: batches/xg0jgclsevahb3nb79ne9wt3xsldeqmjk63q\n",
      "Job finished with state: JOB_STATE_SUCCEEDED\n",
      "--------------------\n",
      "Why don't scientists trust atoms? Because they make up everything!\n",
      "--------------------\n",
      "The reason the sky is blue is due to a phenomenon called **Rayleigh Scattering**. Here's a breakdown:\n",
      "\n",
      "1.  **Sunlight is White Light:** Sunlight, which appears white to us, is actually made up of all the colors of the rainbow (the visible spectrum). Each color has a different wavelength: violet and blue have shorter, smaller wavelengths, while red and orange have longer, larger wavelengths.\n",
      "\n",
      "2.  **Earth's Atmosphere:** Our planet is surrounded by an atmosphere primarily composed of tiny gas molecules, mainly nitrogen (N2) and oxygen (O2).\n",
      "\n",
      "3.  **Scattering of Light:** When sunlight enters the atmosphere, it collides with these gas molecules. This causes the light to be scattered in all directions.\n",
      "\n",
      "4.  **Rayleigh Scattering Explained:**\n",
      "    *   **Size Matters:** The key is that these atmospheric gas molecules are much smaller than the wavelengths of visible light.\n",
      "    *   **Wavelength Dependence:** Rayleigh scattering states that shorter wavelengths (like blue and violet) are scattered much more efficiently than longer wavelengths (like red and yellow). In fact, blue light is scattered about 10 times more effectively than red light!\n",
      "    *   **Why Blue (and not Violet)?** While violet light has an even shorter wavelength than blue and is scattered most, there are two reasons why we see blue:\n",
      "        *   The sun emits slightly less violet light than blue light.\n",
      "        *   Our eyes are more sensitive to blue light than to violet light.\n",
      "\n",
      "5.  **The Result:** As sunlight travels through the atmosphere, the blue light is scattered *in all directions* across the sky. This scattered blue light is what reaches our eyes from every direction, making the sky appear blue. The other colors (yellow, orange, red) are not scattered as much and tend to travel more directly through the atmosphere.\n",
      "\n",
      "**In summary:** The sky is blue because the tiny molecules of gas in Earth's atmosphere scatter blue light from the sun more effectively than other colors.\n",
      "\n",
      "**Related Phenomena:**\n",
      "\n",
      "*   **Why Sunsets/Sunrises are Red/Orange:** When the sun is low on the horizon, its light has to travel through a much greater amount of atmosphere. By the time the light reaches your eyes, almost all of the blue and green light has been scattered away, leaving primarily the longer-wavelength red, orange, and yellow light to reach you directly.\n",
      "*   **Why Clouds are White (or Grey):** Cloud droplets (water or ice crystals) are much larger than the wavelengths of visible light. Because of their size, they scatter all colors of light roughly equally (this is called Mie scattering), resulting in white or grey clouds.\n"
     ]
    }
   ],
   "source": [
    "import time\n",
    "import json\n",
    "import google.genai as genai\n",
    "\n",
    "# Assume 'client' is an initialized genai.Client() instance\n",
    "# client = genai.Client()\n",
    "\n",
    "def monitor_and_get_batch_results(job_name: str, client: genai.client.Client,max_retries: int = 10):\n",
    "    completed_states = {\n",
    "        'JOB_STATE_SUCCEEDED',\n",
    "        'JOB_STATE_FAILED',\n",
    "        'JOB_STATE_CANCELLED',\n",
    "    }\n",
    "\n",
    "    print(f\"Polling status for job: {job_name}\")\n",
    "    batch_job = client.batches.get(name=job_name)\n",
    "    retry_count = 0\n",
    "    while batch_job.state.name not in completed_states and retry_count < max_retries:\n",
    "        print(f\"Current state: {batch_job.state.name}\")\n",
    "        time.sleep(10)  # Wait for 10 seconds before polling again\n",
    "        batch_job = client.batches.get(name=job_name)\n",
    "        retry_count += 1\n",
    "    if retry_count == max_retries:\n",
    "        print(\"No results found after max retries. Try again later.\")\n",
    "        return None\n",
    "        \n",
    "    print(f\"Job finished with state: {batch_job.state.name}\")\n",
    "\n",
    "    # Handle failed or cancelled jobs\n",
    "    if batch_job.state.name in ('JOB_STATE_FAILED', 'JOB_STATE_CANCELLED'):\n",
    "        if batch_job.error:\n",
    "            print(f\"Error: {batch_job.error}\")\n",
    "        else:\n",
    "            print(f\"Job was {batch_job.state.name.lower().split('_')[-1]}.\")\n",
    "        return None\n",
    "\n",
    "    # Retrieve and return results for succeeded jobs\n",
    "    if batch_job.state.name == 'JOB_STATE_SUCCEEDED':\n",
    "        # Case 1: Results are returned inline\n",
    "        if batch_job.dest and batch_job.dest.inlined_responses:\n",
    "            results = []\n",
    "            for inline_response in batch_job.dest.inlined_responses:\n",
    "                if inline_response.response:\n",
    "                    try:\n",
    "                        results.append(inline_response.model_dump())\n",
    "                    except AttributeError:\n",
    "                        results.append(inline_response.model_dump())\n",
    "                elif inline_response.error:\n",
    "                    results.append(inline_response.model_dump())\n",
    "            return results\n",
    "\n",
    "        # Case 2: Results are in a file\n",
    "        elif batch_job.dest and batch_job.dest.file_name:\n",
    "            result_file_name = batch_job.dest.file_name\n",
    "            print(f\"Results are in file: {result_file_name}. Downloading...\")            \n",
    "            file_content_bytes = client.files.download(file=result_file_name)            \n",
    "            # Parse the JSONL string into a list of dictionaries\n",
    "            parsed_responses = [\n",
    "                json.loads(line) for line in file_content_bytes.decode('utf-8').strip().split('\\n')\n",
    "            ]\n",
    "            return parsed_responses\n",
    "    \n",
    "    # Return None if no results are found\n",
    "    print(\"No results found (neither file nor inline).\")\n",
    "    return None\n",
    "\n",
    "\n",
    "# Assuming you have a job name from a previously created job\n",
    "inline_job_name = inline_batch_job.name # ,e.g. \"batches/xg0jgclsevahb3nb79ne9wt3xsldeqmjk63q\" # or \"batches/xg0jgclsevahb3nb79ne9wt3xsldeqmjk63q\"\n",
    "\n",
    "# Call the function to get the results\n",
    "inline_results = monitor_and_get_batch_results(inline_job_name, client)\n",
    "\n",
    "for result in inline_results:\n",
    "    print(\"-\" * 20)\n",
    "    parts = result['response']['candidates'][0]['content']['parts']\n",
    "    for part in parts:\n",
    "        print(part['text'])"
   ]
  },
  {
   "cell_type": "markdown",
   "metadata": {},
   "source": [
    "## 2. Input File for Large Batches\n",
    "\n",
    "For many requests, the recommended approach is to use a JSON Lines (JSONL) file. Each line contains a user-defined `key` and a `request` object. This file is then uploaded using the File API."
   ]
  },
  {
   "cell_type": "code",
   "execution_count": 7,
   "metadata": {},
   "outputs": [
    {
     "name": "stdout",
     "output_type": "stream",
     "text": [
      "Uploaded file: files/itwjg9sf26gk\n"
     ]
    }
   ],
   "source": [
    "# Create a sample JSONL file\n",
    "with open(\"my-batch-requests.jsonl\", \"w\") as f:\n",
    "    requests = [\n",
    "        {\"key\": \"request-1\", \"request\": {\"contents\": [{\"parts\": [{\"text\": \"Describe the process of photosynthesis.\"}]}], \"generation_config\": {\"temperature\": 0.7}}},\n",
    "        {\"key\": \"request-2\", \"request\": {\"contents\": [{\"parts\": [{\"text\": \"What are the main ingredients in a Margherita pizza?\"}]}]}}\n",
    "    ]\n",
    "    for req in requests:\n",
    "        f.write(json.dumps(req) + \"\\n\")\n",
    "\n",
    "# Upload the file to the File API\n",
    "uploaded_file = client.files.upload(\n",
    "    file='my-batch-requests.jsonl',\n",
    "    config=types.UploadFileConfig(display_name='my-batch-requests', mime_type='application/jsonl')\n",
    ")\n",
    "\n",
    "print(f\"Uploaded file: {uploaded_file.name}\")"
   ]
  },
  {
   "cell_type": "code",
   "execution_count": 9,
   "metadata": {},
   "outputs": [
    {
     "name": "stdout",
     "output_type": "stream",
     "text": [
      "Created batch job from file: batches/juxtg5cd5ow3xnkc2kck3wotk718t60itzph\n"
     ]
    }
   ],
   "source": [
    "# Create the batch job using the uploaded file\n",
    "file_batch_job = client.batches.create(\n",
    "    model=\"gemini-2.5-flash\",\n",
    "    src=uploaded_file.name,\n",
    ")\n",
    "\n",
    "print(f\"Created batch job from file: {file_batch_job.name}\")"
   ]
  },
  {
   "cell_type": "markdown",
   "metadata": {},
   "source": [
    "### Monitor the Job and Retrieve File Results\n",
    "\n",
    "The monitoring process is the same, but the results are returned in an output file instead of being inline."
   ]
  },
  {
   "cell_type": "code",
   "execution_count": 49,
   "metadata": {},
   "outputs": [
    {
     "name": "stdout",
     "output_type": "stream",
     "text": [
      "Polling status for job: batches/juxtg5cd5ow3xnkc2kck3wotk718t60itzph\n",
      "Job finished with state: JOB_STATE_SUCCEEDED\n",
      "Results are in file: files/batch-juxtg5cd5ow3xnkc2kck3wotk718t60itzph. Downloading...\n",
      "{'response': {'responseId': 'tMlraPrbHNOG-8YPyMuPwQ4', 'candidates': [{'content': {'role': 'model', 'parts': [{'text': \"Photosynthesis is the fundamental biological process by which green plants, algae, and some bacteria convert light energy into chemical energy. This chemical energy is stored in organic compounds, primarily glucose (a sugar), which serves as the primary food source for the organism. In doing so, photosynthesis also releases oxygen as a byproduct, which is essential for most life on Earth.\\n\\nThe overall simplified equation for photosynthesis is:\\n\\n$6CO_2$ (Carbon Dioxide) + $6H_2O$ (Water) + Light Energy $\\\\rightarrow C_6H_{12}O_6$ (Glucose) + $6O_2$ (Oxygen)\\n\\nThis complex process occurs primarily in specialized organelles called **chloroplasts** within the cells of plants and algae. Chloroplasts contain a green pigment called **chlorophyll**, which is responsible for absorbing light energy.\\n\\nPhotosynthesis is broadly divided into two main stages:\\n\\n1.  **Light-Dependent Reactions (Light Reactions)**\\n2.  **Light-Independent Reactions (Calvin Cycle / Dark Reactions)**\\n\\n---\\n\\n### 1. Light-Dependent Reactions (Light Reactions)\\n\\n*   **Location:** These reactions occur in the **thylakoid membranes** within the chloroplasts. Thylakoids are sac-like membranes often stacked into structures called grana.\\n*   **Inputs:** Light energy, Water ($H_2O$).\\n*   **Process:**\\n    *   **Light Absorption:** Chlorophyll and other pigments within protein complexes called **photosystems (Photosystem II and Photosystem I)** absorb light energy.\\n    *   **Water Splitting (Photolysis):** The absorbed light energy is used to split water molecules ($H_2O$). This process releases:\\n        *   **Electrons ($e^-$):** These energized electrons are passed along an **electron transport chain (ETC)**.\\n        *   **Protons ($H^+$):** These accumulate inside the thylakoid lumen, creating a proton gradient.\\n        *   **Oxygen ($O_2$):** This is released as a gaseous byproduct into the atmosphere.\\n    *   **ATP Production (Photophosphorylation):** As electrons move down the ETC, their energy is used to pump more $H^+$ ions from the stroma into the thylakoid lumen. This creates a high concentration of protons inside the lumen. These protons then flow back out into the stroma through an enzyme called **ATP synthase**, which uses the energy of the proton flow to synthesize **ATP (adenosine triphosphate)** from ADP and inorganic phosphate. ATP is an energy-carrying molecule.\\n    *   **NADPH Production:** At the end of the electron transport chain, the electrons, along with $H^+$ ions, are used to reduce **NADP+ (nicotinamide adenine dinucleotide phosphate)** into **NADPH**. NADPH is another energy-carrying molecule, specifically an electron carrier.\\n*   **Outputs:** ATP, NADPH, and Oxygen ($O_2$).\\n*   **Purpose:** To convert light energy into chemical energy in the form of ATP and NADPH, which will be used in the next stage.\\n\\n---\\n\\n### 2. Light-Independent Reactions (Calvin Cycle / Dark Reactions)\\n\\n*   **Location:** These reactions occur in the **stroma**, the fluid-filled space surrounding the thylakoids within the chloroplast.\\n*   **Inputs:** Carbon Dioxide ($CO_2$), ATP, and NADPH (both from the light-dependent reactions).\\n*   **Process:** This stage is a cyclical series of reactions known as the **Calvin Cycle**. It does not directly require light but depends on the ATP and NADPH produced during the light reactions.\\n    *   **Carbon Fixation:** An enzyme called **RuBisCO (Ribulose-1,5-bisphosphate carboxylase/oxygenase)** catalyzes the attachment of a $CO_2$ molecule to a 5-carbon sugar called **RuBP (Ribulose-1,5-bisphosphate)**. This forms an unstable 6-carbon compound that immediately splits into two 3-carbon molecules called **3-PGA (3-phosphoglycerate)**.\\n    *   **Reduction:** The 3-PGA molecules are then converted into **G3P (glyceraldehyde-3-phosphate)**. This step requires energy from **ATP** and reducing power from **NADPH**, both supplied by the light reactions.\\n    *   **Regeneration:** Most of the G3P molecules are used to regenerate the initial 5-carbon RuBP, which requires additional **ATP**. This regeneration ensures that the cycle can continue to fix more $CO_2$.\\n    *   **Sugar Production:** For every 6 molecules of G3P produced, one G3P molecule exits the cycle. Two of these G3P molecules can be combined to form a molecule of **glucose ($C_6H_{12}O_6$)**. The remaining G3P molecules are used for RuBP regeneration.\\n*   **Outputs:** Glucose (or G3P, which is then used to make glucose and other organic compounds like starch, cellulose, fats, and proteins), ADP, and NADP+ (which are then recycled back to the light-dependent reactions).\\n*   **Purpose:** To use the chemical energy (ATP and NADPH) from the light reactions to convert inorganic carbon dioxide into organic sugar molecules.\\n\\n---\\n\\n### Summary of Inputs and Outputs:\\n\\n| Stage                 | Inputs                               | Outputs                                     |\\n| :-------------------- | :----------------------------------- | :------------------------------------------ |\\n| **Light-Dependent**   | Light energy, Water ($H_2O$)         | ATP, NADPH, Oxygen ($O_2$)                  |\\n| **Light-Independent** | Carbon Dioxide ($CO_2$), ATP, NADPH | Glucose ($C_6H_{12}O_6$), ADP, NADP+        |\\n\\n---\\n\\n### Significance of Photosynthesis:\\n\\n1.  **Energy Source:** It is the primary process that converts light energy into chemical energy, forming the base of almost all food chains on Earth. Plants (producers) create their own food, and all other organisms (consumers) depend on this energy either directly or indirectly.\\n2.  **Oxygen Production:** It releases the oxygen necessary for the aerobic respiration of most living organisms.\\n3.  **Carbon Cycle:** It plays a crucial role in the global carbon cycle by removing carbon dioxide from the atmosphere, helping to regulate Earth's climate.\\n\\nIn essence, photosynthesis is the engine that drives life on Earth, converting simple inorganic substances into complex organic molecules using the power of sunlight.\"}]}, 'finishReason': 'STOP', 'index': 0}], 'usageMetadata': {'thoughtsTokenCount': 1481, 'totalTokenCount': 2874, 'promptTokenCount': 6, 'promptTokensDetails': [{'modality': 'TEXT', 'tokenCount': 6}], 'candidatesTokenCount': 1387}, 'modelVersion': 'gemini-2.5-flash'}, 'key': 'request-1'}\n",
      "--------------------\n",
      "Photosynthesis is the fundamental biological process by which green plants, algae, and some bacteria convert light energy into chemical energy. This chemical energy is stored in organic compounds, primarily glucose (a sugar), which serves as the primary food source for the organism. In doing so, photosynthesis also releases oxygen as a byproduct, which is essential for most life on Earth.\n",
      "\n",
      "The overall simplified equation for photosynthesis is:\n",
      "\n",
      "$6CO_2$ (Carbon Dioxide) + $6H_2O$ (Water) + Light Energy $\\rightarrow C_6H_{12}O_6$ (Glucose) + $6O_2$ (Oxygen)\n",
      "\n",
      "This complex process occurs primarily in specialized organelles called **chloroplasts** within the cells of plants and algae. Chloroplasts contain a green pigment called **chlorophyll**, which is responsible for absorbing light energy.\n",
      "\n",
      "Photosynthesis is broadly divided into two main stages:\n",
      "\n",
      "1.  **Light-Dependent Reactions (Light Reactions)**\n",
      "2.  **Light-Independent Reactions (Calvin Cycle / Dark Reactions)**\n",
      "\n",
      "---\n",
      "\n",
      "### 1. Light-Dependent Reactions (Light Reactions)\n",
      "\n",
      "*   **Location:** These reactions occur in the **thylakoid membranes** within the chloroplasts. Thylakoids are sac-like membranes often stacked into structures called grana.\n",
      "*   **Inputs:** Light energy, Water ($H_2O$).\n",
      "*   **Process:**\n",
      "    *   **Light Absorption:** Chlorophyll and other pigments within protein complexes called **photosystems (Photosystem II and Photosystem I)** absorb light energy.\n",
      "    *   **Water Splitting (Photolysis):** The absorbed light energy is used to split water molecules ($H_2O$). This process releases:\n",
      "        *   **Electrons ($e^-$):** These energized electrons are passed along an **electron transport chain (ETC)**.\n",
      "        *   **Protons ($H^+$):** These accumulate inside the thylakoid lumen, creating a proton gradient.\n",
      "        *   **Oxygen ($O_2$):** This is released as a gaseous byproduct into the atmosphere.\n",
      "    *   **ATP Production (Photophosphorylation):** As electrons move down the ETC, their energy is used to pump more $H^+$ ions from the stroma into the thylakoid lumen. This creates a high concentration of protons inside the lumen. These protons then flow back out into the stroma through an enzyme called **ATP synthase**, which uses the energy of the proton flow to synthesize **ATP (adenosine triphosphate)** from ADP and inorganic phosphate. ATP is an energy-carrying molecule.\n",
      "    *   **NADPH Production:** At the end of the electron transport chain, the electrons, along with $H^+$ ions, are used to reduce **NADP+ (nicotinamide adenine dinucleotide phosphate)** into **NADPH**. NADPH is another energy-carrying molecule, specifically an electron carrier.\n",
      "*   **Outputs:** ATP, NADPH, and Oxygen ($O_2$).\n",
      "*   **Purpose:** To convert light energy into chemical energy in the form of ATP and NADPH, which will be used in the next stage.\n",
      "\n",
      "---\n",
      "\n",
      "### 2. Light-Independent Reactions (Calvin Cycle / Dark Reactions)\n",
      "\n",
      "*   **Location:** These reactions occur in the **stroma**, the fluid-filled space surrounding the thylakoids within the chloroplast.\n",
      "*   **Inputs:** Carbon Dioxide ($CO_2$), ATP, and NADPH (both from the light-dependent reactions).\n",
      "*   **Process:** This stage is a cyclical series of reactions known as the **Calvin Cycle**. It does not directly require light but depends on the ATP and NADPH produced during the light reactions.\n",
      "    *   **Carbon Fixation:** An enzyme called **RuBisCO (Ribulose-1,5-bisphosphate carboxylase/oxygenase)** catalyzes the attachment of a $CO_2$ molecule to a 5-carbon sugar called **RuBP (Ribulose-1,5-bisphosphate)**. This forms an unstable 6-carbon compound that immediately splits into two 3-carbon molecules called **3-PGA (3-phosphoglycerate)**.\n",
      "    *   **Reduction:** The 3-PGA molecules are then converted into **G3P (glyceraldehyde-3-phosphate)**. This step requires energy from **ATP** and reducing power from **NADPH**, both supplied by the light reactions.\n",
      "    *   **Regeneration:** Most of the G3P molecules are used to regenerate the initial 5-carbon RuBP, which requires additional **ATP**. This regeneration ensures that the cycle can continue to fix more $CO_2$.\n",
      "    *   **Sugar Production:** For every 6 molecules of G3P produced, one G3P molecule exits the cycle. Two of these G3P molecules can be combined to form a molecule of **glucose ($C_6H_{12}O_6$)**. The remaining G3P molecules are used for RuBP regeneration.\n",
      "*   **Outputs:** Glucose (or G3P, which is then used to make glucose and other organic compounds like starch, cellulose, fats, and proteins), ADP, and NADP+ (which are then recycled back to the light-dependent reactions).\n",
      "*   **Purpose:** To use the chemical energy (ATP and NADPH) from the light reactions to convert inorganic carbon dioxide into organic sugar molecules.\n",
      "\n",
      "---\n",
      "\n",
      "### Summary of Inputs and Outputs:\n",
      "\n",
      "| Stage                 | Inputs                               | Outputs                                     |\n",
      "| :-------------------- | :----------------------------------- | :------------------------------------------ |\n",
      "| **Light-Dependent**   | Light energy, Water ($H_2O$)         | ATP, NADPH, Oxygen ($O_2$)                  |\n",
      "| **Light-Independent** | Carbon Dioxide ($CO_2$), ATP, NADPH | Glucose ($C_6H_{12}O_6$), ADP, NADP+        |\n",
      "\n",
      "---\n",
      "\n",
      "### Significance of Photosynthesis:\n",
      "\n",
      "1.  **Energy Source:** It is the primary process that converts light energy into chemical energy, forming the base of almost all food chains on Earth. Plants (producers) create their own food, and all other organisms (consumers) depend on this energy either directly or indirectly.\n",
      "2.  **Oxygen Production:** It releases the oxygen necessary for the aerobic respiration of most living organisms.\n",
      "3.  **Carbon Cycle:** It plays a crucial role in the global carbon cycle by removing carbon dioxide from the atmosphere, helping to regulate Earth's climate.\n",
      "\n",
      "In essence, photosynthesis is the engine that drives life on Earth, converting simple inorganic substances into complex organic molecules using the power of sunlight.\n",
      "{'response': {'usageMetadata': {'promptTokenCount': 10, 'promptTokensDetails': [{'modality': 'TEXT', 'tokenCount': 10}], 'candidatesTokenCount': 236, 'thoughtsTokenCount': 832, 'totalTokenCount': 1078}, 'modelVersion': 'gemini-2.5-flash', 'candidates': [{'index': 0, 'finishReason': 'STOP', 'content': {'parts': [{'text': \"The main ingredients in a Margherita pizza are famously simple and represent the colors of the Italian flag:\\n\\n1.  **Pizza Dough:** A basic, thin, and often chewy Neapolitan-style pizza dough made from flour, water, salt, and yeast.\\n2.  **San Marzano Tomato Sauce (or crushed tomatoes):** Not a complex sauce, but usually just high-quality crushed or pureed San Marzano tomatoes (or similar sweet, low-acid plum tomatoes) seasoned minimally, if at all, to let their natural flavor shine.\\n3.  **Fresh Mozzarella:** Traditionally *mozzarella di bufala* (buffalo mozzarella) or *fior di latte* (cow's milk mozzarella), which melts beautifully and has a fresh, milky taste.\\n4.  **Fresh Basil Leaves:** Added after cooking or towards the very end, providing a fragrant, peppery, and slightly sweet aroma.\\n5.  **Extra Virgin Olive Oil:** A drizzle of good quality olive oil is usually added before or after baking to enhance the flavors.\\n\\nThe beauty of a Margherita lies in the quality and freshness of these few ingredients.\"}], 'role': 'model'}}], 'responseId': 'q8lraL39BNH5jrEP4LiIMQ'}, 'key': 'request-2'}\n",
      "--------------------\n",
      "The main ingredients in a Margherita pizza are famously simple and represent the colors of the Italian flag:\n",
      "\n",
      "1.  **Pizza Dough:** A basic, thin, and often chewy Neapolitan-style pizza dough made from flour, water, salt, and yeast.\n",
      "2.  **San Marzano Tomato Sauce (or crushed tomatoes):** Not a complex sauce, but usually just high-quality crushed or pureed San Marzano tomatoes (or similar sweet, low-acid plum tomatoes) seasoned minimally, if at all, to let their natural flavor shine.\n",
      "3.  **Fresh Mozzarella:** Traditionally *mozzarella di bufala* (buffalo mozzarella) or *fior di latte* (cow's milk mozzarella), which melts beautifully and has a fresh, milky taste.\n",
      "4.  **Fresh Basil Leaves:** Added after cooking or towards the very end, providing a fragrant, peppery, and slightly sweet aroma.\n",
      "5.  **Extra Virgin Olive Oil:** A drizzle of good quality olive oil is usually added before or after baking to enhance the flavors.\n",
      "\n",
      "The beauty of a Margherita lies in the quality and freshness of these few ingredients.\n"
     ]
    }
   ],
   "source": [
    "# Assuming you have a job name from a previously created job\n",
    "inline_job_name = file_batch_job.name # ,e.g. \"batches/juxtg5cd5ow3xnkc2kck3wotk718t60itzph\" # or \"batches/xg0jgclsevahb3nb79ne9wt3xsldeqmjk63q\"\n",
    "\n",
    "# Call the function to get the results\n",
    "file_results = monitor_and_get_batch_results(inline_job_name, client)\n",
    "\n",
    "for result in file_results:\n",
    "    print(result)\n",
    "    print(\"-\" * 20)\n",
    "    parts = result['response']['candidates'][0]['content']['parts']\n",
    "    for part in parts:\n",
    "        print(part['text'])"
   ]
  },
  {
   "cell_type": "code",
   "execution_count": null,
   "metadata": {},
   "outputs": [],
   "source": []
  }
 ],
 "metadata": {
  "kernelspec": {
   "display_name": ".venv",
   "language": "python",
   "name": "python3"
  },
  "language_info": {
   "codemirror_mode": {
    "name": "ipython",
    "version": 3
   },
   "file_extension": ".py",
   "mimetype": "text/x-python",
   "name": "python",
   "nbconvert_exporter": "python",
   "pygments_lexer": "ipython3",
   "version": "3.13.2"
  }
 },
 "nbformat": 4,
 "nbformat_minor": 2
}
