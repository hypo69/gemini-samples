{
 "cells": [
  {
   "cell_type": "markdown",
   "metadata": {},
   "source": [
    "# Google Gemma 3 27B It with Gen AI API\n",
    "\n",
    "Google Gemma 3 27B It is an open, multilingual, multimodal Vision-Language model. It handles context windows up to 128k tokens, understands over 140 languages, and offers improved math, reasoning, and chat capabilities, including structured outputs and function calling. Gemma 3 is available in four sizes (1B, 4B, 12B, and 27B) as both pre-trained models, which can be fine-tuned for your own use cases and domains, and general-purpose instruction-tuned versions. The Gemma 3 27B It is available via [AI Studio](https://aistudio.google.com/prompts/new_chat?model=gemma-3-27b-it) and the Gen AI API. \n",
    "\n",
    "Get an API key from [AI Studio](https://aistudio.google.com/apikey) and use it to make requests to the Gen AI API."
   ]
  },
  {
   "cell_type": "code",
   "execution_count": null,
   "metadata": {},
   "outputs": [],
   "source": [
    "%pip install google-genai"
   ]
  },
  {
   "cell_type": "code",
   "execution_count": 1,
   "metadata": {},
   "outputs": [],
   "source": [
    "import os\n",
    "from google import genai\n",
    "\n",
    "# create client\n",
    "api_key = os.getenv(\"GEMINI_API_KEY\",\"xxx\")\n",
    "client = genai.Client(api_key=api_key)\n",
    "\n",
    "# speicfy the model id\n",
    "model_id = \"gemma-3-27b-it\""
   ]
  },
  {
   "cell_type": "code",
   "execution_count": 5,
   "metadata": {},
   "outputs": [
    {
     "name": "stdout",
     "output_type": "stream",
     "text": [
      "Okay, let's break down how AI works. It's a huge field, so we'll cover the core concepts, different approaches, and give some examples.  I'll try to keep it accessible, avoiding *too* much technical jargon.  I'll also categorize it to make it easier to understand.\n",
      "\n",
      "**I. What *is* AI? (The Big Picture)**\n",
      "\n",
      "At its most basic, Artificial Intelligence (AI) is about creating machines that can perform tasks that typically require human intelligence. These tasks include:\n",
      "\n",
      "* **Learning:** Acquiring information and rules for using it.\n",
      "* **Reasoning:** Using rules to reach conclusions.\n",
      "* **Problem-solving:** Finding solutions to complex issues.\n",
      "* **Perception:** Understanding the world through senses (like vision, hearing).\n",
      "* **Language Understanding:** Processing and generating human language.\n",
      "\n",
      "\n",
      "\n",
      "**II.  The Different Flavors of AI (Categories)**\n",
      "\n",
      "AI isn't one single thing. Here's a breakdown of the main types:\n",
      "\n",
      "* **Narrow or Weak AI:** This is what we have *today*. It's designed to perform a *specific* task extremely well.  Examples:\n",
      "    * **Spam filters:**  Identify and filter unwanted emails.\n",
      "    * **Recommendation systems (Netflix, Amazon):** Suggest items you might like.\n",
      "    * **Voice assistants (Siri, Alexa, Google Assistant):** Respond to voice commands.\n",
      "    * **Image recognition:** Identifying objects in pictures.\n",
      "* **General or Strong AI:** This is the hypothetical AI that possesses human-level intelligence. It can understand, learn, adapt, and implement knowledge across a wide range of tasks, just like a human.  We haven't achieved this yet.  It's often what you see in science fiction.\n",
      "* **Super AI:**  An even more hypothetical level of AI that surpasses human intelligence in *all* aspects.  This is largely theoretical and raises many ethical concerns.\n",
      "\n",
      "\n",
      "\n",
      "\n",
      "**III.  How AI Actually Works: The Core Techniques**\n",
      "\n",
      "Now, let's get into *how* AI is built.  The most common techniques fall under the umbrella of **Machine Learning (ML)**.  ML is a subset of AI.\n",
      "\n",
      "**A. Machine Learning (ML)**\n",
      "\n",
      "The core idea of ML is to allow computers to learn from data *without* being explicitly programmed.  Instead of writing rules for every possible scenario, you feed the machine data, and it figures out the rules itself.  Here are the main types of ML:\n",
      "\n",
      "* **Supervised Learning:**\n",
      "    * **How it works:** You give the algorithm labeled data – meaning data where the correct answer is already known.  The algorithm learns to map inputs to outputs.\n",
      "    * **Example:**  You show the algorithm thousands of pictures of cats and dogs, *labeled* as \"cat\" or \"dog.\"  The algorithm learns to identify cats and dogs in new, unseen pictures.\n",
      "    * **Common Algorithms:**  Linear Regression, Logistic Regression, Support Vector Machines (SVMs), Decision Trees, Random Forests.\n",
      "* **Unsupervised Learning:**\n",
      "    * **How it works:** You give the algorithm unlabeled data.  The algorithm tries to find patterns, structures, and relationships in the data on its own.\n",
      "    * **Example:** You give the algorithm data about customer purchases.  It might identify different customer segments (e.g., \"high-spending customers,\" \"budget-conscious customers\") without you telling it what those segments are.\n",
      "    * **Common Algorithms:** Clustering (K-Means), Dimensionality Reduction (PCA), Association Rule Mining.\n",
      "* **Reinforcement Learning:**\n",
      "    * **How it works:** The algorithm learns by trial and error. It receives rewards or penalties for its actions, and it learns to maximize its rewards over time.\n",
      "    * **Example:**  Training a computer to play a game like chess or Go. The algorithm makes moves, and if it wins, it gets a reward. If it loses, it gets a penalty.  Over time, it learns the best strategies to win.\n",
      "    * **Common Algorithms:** Q-Learning, Deep Q-Networks (DQN).\n",
      "\n",
      "\n",
      "\n",
      "**B. Deep Learning (DL)**\n",
      "\n",
      "Deep Learning is a *subfield* of Machine Learning. It's based on **artificial neural networks** with many layers (hence \"deep\").\n",
      "\n",
      "* **How it works:**  Neural networks are inspired by the structure of the human brain. They consist of interconnected nodes (neurons) organized in layers.  Data flows through these layers, and each layer extracts different features from the data.  The more layers, the more complex features the network can learn.\n",
      "* **Example:**  Image recognition.  The first layers might detect edges and corners.  The next layers might combine those edges into shapes.  Later layers might combine shapes into objects.  Finally, the last layer identifies the object (e.g., \"cat\").\n",
      "* **Why it's powerful:** Deep learning excels at handling complex data like images, audio, and text.  It often achieves state-of-the-art results in many AI tasks.\n",
      "* **Common Architectures:** Convolutional Neural Networks (CNNs - for images), Recurrent Neural Networks (RNNs - for sequential data like text), Transformers (very powerful for language).\n",
      "\n",
      "\n",
      "\n",
      "\n",
      "**IV.  The Process: Building an AI System (Simplified)**\n",
      "\n",
      "1. **Data Collection:** Gather a large amount of relevant data.  The quality and quantity of data are crucial.\n",
      "2. **Data Preparation:** Clean and preprocess the data. This involves handling missing values, removing errors, and formatting the data appropriately.\n",
      "3. **Model Selection:** Choose the appropriate ML or DL algorithm based on the task and the data.\n",
      "4. **Training:** Feed the data to the algorithm and let it learn. This often involves adjusting the algorithm's parameters to minimize errors.\n",
      "5. **Evaluation:** Test the trained model on a separate dataset (the \"test set\") to assess its performance.\n",
      "6. **Deployment:**  Integrate the model into a real-world application.\n",
      "7. **Monitoring & Retraining:** Continuously monitor the model's performance and retrain it with new data to maintain accuracy.\n",
      "\n",
      "\n",
      "\n",
      "\n",
      "**V.  Tools and Technologies**\n",
      "\n",
      "* **Programming Languages:** Python is the most popular language for AI development.  R is also used, especially for statistical analysis.\n",
      "* **Libraries & Frameworks:**\n",
      "    * **TensorFlow:**  A powerful open-source library for numerical computation and large-scale machine learning.\n",
      "    * **PyTorch:** Another popular open-source library, known for its flexibility and ease of use.\n",
      "    * **Scikit-learn:** A library for a wide range of machine learning algorithms.\n",
      "    * **Keras:** A high-level API for building and training neural networks.\n",
      "* **Cloud Platforms:**  Amazon Web Services (AWS), Google Cloud Platform (GCP), Microsoft Azure offer AI services and infrastructure.\n",
      "\n",
      "\n",
      "\n",
      "\n",
      "**Where to Learn More:**\n",
      "\n",
      "* **Coursera & edX:** Offer many AI and Machine Learning courses.\n",
      "* **Kaggle:** A platform for data science competitions and learning.\n",
      "* **Fast.ai:**  Practical deep learning courses.\n",
      "* **Google AI Education:**  Resources from Google.\n",
      "\n",
      "\n",
      "\n",
      "\n",
      "**In conclusion:**\n",
      "\n",
      "AI is a rapidly evolving field.  It's not magic, but it's a powerful set of tools and techniques that are transforming many aspects of our lives.  The key is understanding the underlying principles and how different approaches can be applied to solve real-world problems.\n",
      "\n",
      "\n",
      "\n",
      "I hope this explanation is helpful!  Let me know if you have any specific questions or want me to elaborate on any particular aspect."
     ]
    }
   ],
   "source": [
    "prompt = \"Explain to me how AI works\"\n",
    "\n",
    "for chunk in client.models.generate_content_stream(\n",
    "    model=model_id,\n",
    "    contents=prompt,\n",
    "):\n",
    "    print(chunk.text, end=\"\")"
   ]
  },
  {
   "cell_type": "markdown",
   "metadata": {},
   "source": [
    "## Image Inputs\n"
   ]
  },
  {
   "cell_type": "code",
   "execution_count": null,
   "metadata": {},
   "outputs": [
    {
     "name": "stdout",
     "output_type": "stream",
     "text": [
      "Based on the image, I see **two** dogs. They both appear to be Boston Terriers. \n",
      "\n",
      "There is also a cat in the picture, but the question specifically asks about dogs!None"
     ]
    }
   ],
   "source": [
    "image_path = \"../assets/cats-and-dogs.jpg\"\n",
    "prompt = \"How many dogs do you see?\"\n",
    "\n",
    "# upload image for easier management\n",
    "uploaded_image = client.files.upload(file=image_path)\n",
    "\n",
    "# send request to Gemma 3 with image input\n",
    "for chunk in client.models.generate_content_stream(\n",
    "    model=model_id,\n",
    "    contents=[uploaded_image, prompt],\n",
    "):\n",
    "    print(chunk.text, end=\"\")"
   ]
  },
  {
   "cell_type": "code",
   "execution_count": null,
   "metadata": {},
   "outputs": [],
   "source": []
  }
 ],
 "metadata": {
  "kernelspec": {
   "display_name": ".venv",
   "language": "python",
   "name": "python3"
  },
  "language_info": {
   "codemirror_mode": {
    "name": "ipython",
    "version": 3
   },
   "file_extension": ".py",
   "mimetype": "text/x-python",
   "name": "python",
   "nbconvert_exporter": "python",
   "pygments_lexer": "ipython3",
   "version": "3.11.11"
  }
 },
 "nbformat": 4,
 "nbformat_minor": 2
}
