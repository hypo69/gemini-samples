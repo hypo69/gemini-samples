{
 "cells": [
  {
   "cell_type": "markdown",
   "metadata": {},
   "source": [
    "# Google Gemini with Google Search\n",
    "\n",
    "Gemini 2.0 Flash comes with native Google Search integration, allowing the model to access up-to-date information from the web. This is particularly useful for queries that require current information or external knowledge. By enabling Google Search, Gemini can provide more accurate and timely responses.\n",
    "\n",
    "Key features:\n",
    "- Simple to enable with one configuration change\n",
    "- Automatically searches when needed for up-to-date information\n",
    "- Supports 30+ languages\n",
    "- Free tier: 1,500 queries per day\n",
    "- Paid tier: $35 per 1,000 queries\n",
    "\n",
    "You can learn more about Google Search integration with Gemini here:\n",
    "[https://ai.google.dev/gemini-api/docs/grounding?lang=python](https://ai.google.dev/gemini-api/docs/grounding?lang=python)"
   ]
  },
  {
   "cell_type": "code",
   "execution_count": null,
   "metadata": {},
   "outputs": [],
   "source": [
    "%pip install google-genai"
   ]
  },
  {
   "cell_type": "code",
   "execution_count": 19,
   "metadata": {},
   "outputs": [
    {
     "name": "stdout",
     "output_type": "stream",
     "text": [
      "Response: Spain won Euro 2024, defeating England 2-1 in the final. This victory marks Spain's fourth European Championship title.\n",
      "\n",
      "Search Query: ['who won euro 2024?']\n",
      "Search Pages: olympics.com, aljazeera.com, wikipedia.org, wikipedia.org\n"
     ]
    }
   ],
   "source": [
    "import os\n",
    "from google import genai\n",
    "\n",
    "# create client\n",
    "client = genai.Client(api_key=os.getenv(\"GEMINI_API_KEY\",\"xxx\"))\n",
    "\n",
    "\n",
    "# Generate a list of cookie recipes\n",
    "response = client.models.generate_content(\n",
    "    model='gemini-2.0-flash',\n",
    "    contents='Who won the Euro 2024?',\n",
    "    config={\"tools\": [{\"google_search\": {}}]},\n",
    ")\n",
    "\n",
    "# print the response\n",
    "print(f\"Response: {response.text}\")\n",
    "# print the search details\n",
    "print(f\"Search Query: {response.candidates[0].grounding_metadata.web_search_queries}\")\n",
    "# urls used for grounding\n",
    "print(f\"Search Pages: {', '.join([site.web.title for site in response.candidates[0].grounding_metadata.grounding_chunks])}\")\n"
   ]
  },
  {
   "cell_type": "markdown",
   "metadata": {},
   "source": [
    "more complex example with multiple queries"
   ]
  },
  {
   "cell_type": "code",
   "execution_count": 20,
   "metadata": {},
   "outputs": [
    {
     "name": "stdout",
     "output_type": "stream",
     "text": [
      "Response: Brazil has won more World Cups than Germany. Brazil has won the World Cup 5 times (1958, 1962, 1970, 1994, and 2002), while Germany has won 4 times (1954, 1974, 1990, and 2014).\n",
      "\n",
      "Search Query: ['How many world cups has germany won', 'How many world cups does Brazil have']\n",
      "Search Pages: spectes.com, wikipedia.org, sportingnews.com, roadtrips.com\n"
     ]
    }
   ],
   "source": [
    "# Generate a list of cookie recipes\n",
    "response = client.models.generate_content(\n",
    "    model='gemini-2.0-flash',\n",
    "    contents='Who won more World Cups, Germany or Brazil?',\n",
    "    config={\"tools\": [{\"google_search\": {}}]},\n",
    ")\n",
    "\n",
    "# print the response\n",
    "print(f\"Response: {response.text}\")\n",
    "# print the search details\n",
    "print(f\"Search Query: {response.candidates[0].grounding_metadata.web_search_queries}\")\n",
    "# urls used for grounding\n",
    "print(f\"Search Pages: {', '.join([site.web.title for site in response.candidates[0].grounding_metadata.grounding_chunks])}\")\n"
   ]
  },
  {
   "cell_type": "code",
   "execution_count": null,
   "metadata": {},
   "outputs": [],
   "source": []
  }
 ],
 "metadata": {
  "kernelspec": {
   "display_name": ".venv",
   "language": "python",
   "name": "python3"
  },
  "language_info": {
   "codemirror_mode": {
    "name": "ipython",
    "version": 3
   },
   "file_extension": ".py",
   "mimetype": "text/x-python",
   "name": "python",
   "nbconvert_exporter": "python",
   "pygments_lexer": "ipython3",
   "version": "3.11.11"
  }
 },
 "nbformat": 4,
 "nbformat_minor": 2
}
