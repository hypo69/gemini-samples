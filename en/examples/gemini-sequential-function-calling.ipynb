{
 "cells": [
  {
   "cell_type": "markdown",
   "id": "2d3e4f2d",
   "metadata": {},
   "source": [
    "# Sequential/Compositional Function Calling with Gemini \n",
    "\n",
    "This example demonstrates sequential function calling with the Gemini. Sequential function calling describes a flow where the model needs to call multiple functions in order to complete a task, where the output of one function call is needed as input for the next function call. Sequential function calling is a form of compositional function calling and Gemini supports it using multiple turns of the conversation.\n",
    "\n",
    "Example:\n",
    "> \" If it is warmer than 20°C, set the temperature to 20°C else set it to 18°C.\"\n",
    "\n",
    "Here the model needs to call two functions:\n",
    "1. Get the current temperature outside\n",
    "2. Update the AC to match the current temperature\n",
    "\n",
    "We are going to use the [automatic function calling](https://ai.google.dev/gemini-api/docs/function-calling?example=weather#automatic_function_calling_python_only) feature of Gemini SDK.  The SDK automatically converts the Python function to declarations, handles the function call execution and response cycle for you."
   ]
  },
  {
   "cell_type": "code",
   "execution_count": null,
   "id": "99d4b4c8",
   "metadata": {},
   "outputs": [],
   "source": [
    "%pip install google-genai geopy requests"
   ]
  },
  {
   "cell_type": "code",
   "execution_count": 1,
   "id": "2d2d9019",
   "metadata": {},
   "outputs": [],
   "source": [
    "import os\n",
    "from google import genai\n",
    "from google.genai import types\n",
    "from geopy.geocoders import Nominatim\n",
    "import requests\n",
    "from datetime import datetime\n",
    "\n",
    "# create client\n",
    "client = genai.Client(api_key=os.getenv(\"GEMINI_API_KEY\",\"xxx\"))\n",
    "model_id = \"gemini-2.5-pro-preview-03-25\" # \"gemini-2.5-flash-preview-04-17\"\n",
    "\n",
    "# Function to get the weather forecast for a given location and date\n",
    "geolocator = Nominatim(user_agent=\"weather-app\")\n",
    "def get_weather_forecast(location:str, date:str) -> dict:\n",
    "    \"\"\"Gets the weather forecast for a given location and date.\n",
    "\n",
    "    Args:\n",
    "        location: The city name, e.g. San Francisco.\n",
    "        date: The date to get the weather forecast for, in YYYY-MM-DD format.\n",
    "\n",
    "    Returns:\n",
    "        A dictionary mapping hourly timestamps to temperatures for the given date,\n",
    "        or a dictionary with an \"error\" key if the location is not found or an API error occurs.\n",
    "    \"\"\"\n",
    "    print(f\"API CALL: get_weather_forecast(location={location}, date={date})\")\n",
    "    location_data = geolocator.geocode(location)\n",
    "    if location_data:\n",
    "        try:\n",
    "            response = requests.get(f\"https://api.open-meteo.com/v1/forecast?latitude={location_data.latitude}&longitude={location_data.longitude}&hourly=temperature_2m&start_date={date}&end_date={date}\")\n",
    "            data = response.json()\n",
    "            # Check if 'hourly', 'time', and 'temperature_2m' keys exist before accessing them\n",
    "            if \"hourly\" in data and \"time\" in data[\"hourly\"] and \"temperature_2m\" in data[\"hourly\"]:\n",
    "                print(\"API RESPONSE: \" + str({time: temp for time, temp in zip(data[\"hourly\"][\"time\"], data[\"hourly\"][\"temperature_2m\"])}), flush=True)\n",
    "                return {time: temp for time, temp in zip(data[\"hourly\"][\"time\"], data[\"hourly\"][\"temperature_2m\"])}\n",
    "            else:\n",
    "                return {\"error\": \"Unexpected response format from weather API.\"}\n",
    "        except requests.exceptions.RequestException as e:\n",
    "            return {\"error\": f\"API request failed: {str(e)}\"}\n",
    "        except KeyError:\n",
    "            return {\"error\": \"Invalid data format received from weather API.\"}\n",
    "        except Exception as e:\n",
    "            return {\"error\": f\"An unexpected error occurred: {str(e)}\"}\n",
    "    else:\n",
    "        return {\"error\": \"Location not found\"}\n",
    "\n",
    "\n",
    "# Mock Python implementation for setting thermostat temperature\n",
    "def set_thermostat_temperature(temperature: int) -> dict:\n",
    "    \"\"\"Sets the thermostat to a desired temperature.\n",
    "\n",
    "    Args:\n",
    "        temperature: The desired temperature to set the thermostat to, in Celsius.\n",
    "\n",
    "    Returns:\n",
    "        A dictionary confirming the status of the operation, e.g., {\"status\": \"success\"}.\n",
    "    \"\"\"\n",
    "    print(f\"API CALL: set_thermostat_temperature(temperature={temperature})\")\n",
    "    # In a real app, this would interact with a thermostat API\n",
    "    print(\"API RESPONSE: \" + str({\"status\": \"success\"}))\n",
    "    return {\"status\": \"success\"}"
   ]
  },
  {
   "cell_type": "code",
   "execution_count": 2,
   "id": "ab5d7b78",
   "metadata": {},
   "outputs": [
    {
     "name": "stdout",
     "output_type": "stream",
     "text": [
      "API CALL: get_weather_forecast(location=London, date=2025-06-01)\n",
      "API RESPONSE: {'2025-06-01T00:00': 16.9, '2025-06-01T01:00': 16.1, '2025-06-01T02:00': 15.5, '2025-06-01T03:00': 14.9, '2025-06-01T04:00': 14.5, '2025-06-01T05:00': 14.5, '2025-06-01T06:00': 14.5, '2025-06-01T07:00': 14.9, '2025-06-01T08:00': 15.4, '2025-06-01T09:00': 16.1, '2025-06-01T10:00': 17.4, '2025-06-01T11:00': 19.0, '2025-06-01T12:00': 19.4, '2025-06-01T13:00': 20.2, '2025-06-01T14:00': 20.2, '2025-06-01T15:00': 20.3, '2025-06-01T16:00': 20.8, '2025-06-01T17:00': 20.9, '2025-06-01T18:00': 20.6, '2025-06-01T19:00': 19.8, '2025-06-01T20:00': 18.8, '2025-06-01T21:00': 17.6, '2025-06-01T22:00': 16.4, '2025-06-01T23:00': 15.5}\n",
      "API CALL: set_thermostat_temperature(temperature=20)\n",
      "API RESPONSE: {'status': 'success'}\n",
      "OK. I've set the thermostat to 20°C as the current temperature is 20.9°C in London.\n"
     ]
    }
   ],
   "source": [
    "prompt = f\"\"\"User Context:\n",
    "- name: Philipp\n",
    "- location: London\n",
    "- today: {datetime.now().strftime(\"%Y-%m-%d\")}\n",
    "\n",
    "User: If it is warmer than 20°C, set the temperature to 20°C else set it to 18°C.\"\"\"\n",
    "\n",
    "# Make the request\n",
    "response = client.models.generate_content(\n",
    "    model=model_id,\n",
    "    contents=prompt,\n",
    "    config={\n",
    "        \"tools\": [get_weather_forecast, set_thermostat_temperature]\n",
    "    },\n",
    ")\n",
    "\n",
    "print(response.text) "
   ]
  },
  {
   "cell_type": "code",
   "execution_count": 14,
   "id": "4c15a6a7",
   "metadata": {},
   "outputs": [
    {
     "name": "stdout",
     "output_type": "stream",
     "text": [
      "Text: User Context:\n",
      "- name: Philipp\n",
      "- location: London\n",
      "- today: 2025-06-01\n",
      "\n",
      "User: If it is warmer than 20°C, set the temperature to 20°C else set it to 18°C.\n",
      "Function Name: get_weather_forecast Function Arguments: {'date': '2025-06-01', 'location': 'London'}\n",
      "Function Response: will_continue=None scheduling=None id=None name='get_weather_forecast' response={'result': {'2025-06-01T00:00': 16.9, '2025-06-01T01:00': 16.1, '2025-06-01T02:00': 15.5, '2025-06-01T03:00': 14.9, '2025-06-01T04:00': 14.5, '2025-06-01T05:00': 14.5, '2025-06-01T06:00': 14.5, '2025-06-01T07:00': 14.9, '2025-06-01T08:00': 15.4, '2025-06-01T09:00': 16.1, '2025-06-01T10:00': 17.4, '2025-06-01T11:00': 19.0, '2025-06-01T12:00': 19.4, '2025-06-01T13:00': 20.2, '2025-06-01T14:00': 20.2, '2025-06-01T15:00': 20.3, '2025-06-01T16:00': 20.8, '2025-06-01T17:00': 20.9, '2025-06-01T18:00': 20.6, '2025-06-01T19:00': 19.8, '2025-06-01T20:00': 18.8, '2025-06-01T21:00': 17.6, '2025-06-01T22:00': 16.4, '2025-06-01T23:00': 15.5}}\n",
      "Text: OK. I see that the maximum temperature in London today is 20.9°C.\n",
      "Since it's warmer than 20°C, I'll set the thermostat to 20°C.\n",
      "\n",
      "Function Response: will_continue=None scheduling=None id=None name='set_thermostat_temperature' response={'result': {'status': 'success'}}\n",
      "final response: The thermostat has been set to 20°C.\n"
     ]
    }
   ],
   "source": [
    "for call in response.automatic_function_calling_history:\n",
    "    part = call.parts[0]\n",
    "    if part.text:\n",
    "        print(f\"Text: {part.text}\")\n",
    "    if part.function_call:\n",
    "        print(f\"Function Name: {part.function_call.name} Function Arguments: {part.function_call.args}\")\n",
    "    if part.function_response:\n",
    "        print(f\"Function Response: {part.function_response}\")\n",
    "\n",
    "print(f\"final response: {response.text}\")"
   ]
  },
  {
   "cell_type": "code",
   "execution_count": null,
   "id": "c76f0851",
   "metadata": {},
   "outputs": [],
   "source": []
  }
 ],
 "metadata": {
  "language_info": {
   "name": "python"
  }
 },
 "nbformat": 4,
 "nbformat_minor": 5
}
