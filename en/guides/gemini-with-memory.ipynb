{
 "cells": [
  {
   "cell_type": "markdown",
   "metadata": {},
   "source": [
    "# Integrating Long-Term Memory with Gemini 2.5\n",
    "\n",
    "By default, large language models (LLMs) are stateless, which means they do not remember past conversations. This can make it difficult to create truly personal and helpful AI applications. This guide shows you how to add long-term memory to your Gemini 2.5 chatbot using the Gemini API and [Mem0](https://github.com/mem0ai/mem0). \n",
    "\n",
    "By adding a memory system, your chatbot can:\n",
    "\n",
    "*   Remember details about the user from past conversations.\n",
    "*   Give answers that are more relevant and personal.\n",
    "*   Stop asking the same questions over and over.\n",
    "\n",
    "In this example, we will use `mem0`, an open-source tool for giving AI agents long-term memory and Gemini 2.5 Flash as the LLM. We will build a simple chatbot that saves what you talk about and uses that history to give you better, more personalized answers.\n",
    "\n",
    "## How does Mem0 work?\n",
    "\n",
    "Mem0 is designed to equip AI agents with scalable long-term memory, effectively addressing the limitations of fixed context windows in LLMs. At its core, mem0 works by reactively extracting, consolidating, and retrieving salient information from ongoing conversations.\n",
    "\n",
    "The process is split into four steps:\n",
    "\n",
    "1. Extract salient information from conversations using an LLM with dual context (a conversation summary combined with recent messages).\n",
    "2. Use LLM to process context and extract important new information and compares them against existing ones using semantic similarity.\n",
    "3. Update Memory (ADD, UPDATE, DELETE, or NOOP), for Mem0g variant (graph), extract entities and relationships.\n",
    "4. Use vector similarity search to fetch relevant memories for response generation.\n",
    " \n",
    "It uses vector embeddings to store and retrieve semantic information, maintaining user-specific context across sessions, and implementing efficient retrieval mechanisms for relevant past interactions.\n",
    "\n",
    "## Setup\n",
    "\n",
    "To get started, we need to install the Mem0 library and the Gemini API client."
   ]
  },
  {
   "cell_type": "code",
   "execution_count": null,
   "metadata": {},
   "outputs": [],
   "source": [
    "!uv pip install google-genai mem0ai --upgrade"
   ]
  },
  {
   "cell_type": "markdown",
   "metadata": {},
   "source": [
    "## Memory initialization\n",
    "\n",
    "For building Memory we need to configure two main components:\n",
    "\n",
    "*   **LLM:** This model is responsible for processing the conversation, understanding the content, and extracting key information to be stored as memories.\n",
    "*   **Embedding Model:** This model takes the extracted text memories and converts them into numerical representations (vectors). This allows `mem0` to efficiently search and retrieve relevant memories based on their meaning when you ask a question.\n",
    "\n",
    "In this example, we will use Google's Gemini models for both tasks. We will use `gemini-2.5-flash` as our LLM and `text-embedding-004` as our embedding model. We are going to use a local Qdrant instance as our vector store. Mem0 supports multiple vector stores incuding MongoDB, OpenSearch, Elasticsearch, Pgvector and more. "
   ]
  },
  {
   "cell_type": "code",
   "execution_count": 12,
   "metadata": {},
   "outputs": [],
   "source": [
    "from google import genai\n",
    "from mem0 import Memory\n",
    "\n",
    "# create client\n",
    "client = genai.Client()\n",
    "\n",
    "config = {\n",
    "    \"embedder\": {\n",
    "        \"provider\": \"gemini\",\n",
    "        \"config\": {\n",
    "            \"model\": \"models/text-embedding-004\",\n",
    "        }\n",
    "    },\n",
    "        \"llm\": {\n",
    "        \"provider\": \"gemini\",\n",
    "        \"config\": {\n",
    "            \"model\": \"gemini-2.5-flash\",\n",
    "            \"temperature\": 0.0,\n",
    "            \"max_tokens\": 2000,\n",
    "        }\n",
    "    },\n",
    "    \"vector_store\": {\n",
    "        \"config\": {\n",
    "            \"embedding_model_dims\": 768,\n",
    "        }\n",
    "    }\n",
    "}\n",
    "\n",
    "memory = Memory.from_config(config)"
   ]
  },
  {
   "cell_type": "markdown",
   "metadata": {},
   "source": [
    "## Store memory about the user\n",
    "\n",
    "To simulate and simplify the process of adding memory. We will use dummy conversations between me (Philipp Schmid) and Gemini based on what can be seen on my blog. Conversations need to be in the `messages` format to be added."
   ]
  },
  {
   "cell_type": "code",
   "execution_count": 13,
   "metadata": {},
   "outputs": [
    {
     "name": "stderr",
     "output_type": "stream",
     "text": [
      "INFO:backoff:Backing off send_request(...) for 0.8s (requests.exceptions.ConnectionError: ('Connection aborted.', ConnectionResetError(54, 'Connection reset by peer')))\n",
      "INFO:backoff:Backing off send_request(...) for 0.0s (requests.exceptions.ConnectionError: ('Connection aborted.', ConnectionResetError(54, 'Connection reset by peer')))\n",
      "INFO:backoff:Backing off send_request(...) for 0.3s (requests.exceptions.ConnectionError: ('Connection aborted.', ConnectionResetError(54, 'Connection reset by peer')))\n",
      "INFO:backoff:Backing off send_request(...) for 0.6s (requests.exceptions.ConnectionError: ('Connection aborted.', ConnectionResetError(54, 'Connection reset by peer')))\n",
      "INFO:backoff:Backing off send_request(...) for 0.4s (requests.exceptions.ConnectionError: ('Connection aborted.', ConnectionResetError(54, 'Connection reset by peer')))\n",
      "INFO:backoff:Backing off send_request(...) for 0.1s (requests.exceptions.ConnectionError: ('Connection aborted.', ConnectionResetError(54, 'Connection reset by peer')))\n",
      "INFO:backoff:Backing off send_request(...) for 0.4s (requests.exceptions.ConnectionError: ('Connection aborted.', ConnectionResetError(54, 'Connection reset by peer')))\n"
     ]
    }
   ],
   "source": [
    "conv1 = [\n",
    "    {\"role\": \"user\", \"content\": \"I'm planning a week-long vacation in early September. I want to go somewhere in Europe where I can do some serious mountain biking during the day and have a good selection of fiction and non-fiction books to read in the evenings. Any recommendations for destinations and book pairings?\"},\n",
    "    {\"role\": \"assistant\", \"content\": \"That sounds like a fantastic way to spend a week! Given your interest in mountain biking and reading, I'd recommend the Austrian Alps, specifically the area around Innsbruck. It's renowned for its challenging bike trails and stunning scenery. For your evenings, here are a few book pairings that might resonate with your interests:\\n\\n* Fiction: The Goldfinch by Donna Tartt. It's a long, immersive novel that would be perfect to get lost in after a long day of biking.\\n* Non-fiction: Endurance: Shackleton's Incredible Voyage by Alfred Lansing. It's a gripping true story of survival and leadership that might appeal to your adventurous spirit.\\n\\nI can also look for some local bookstores in Innsbruck that might have a good selection of English and German books if you'd like.\"},\n",
    "    {\"role\": \"user\", \"content\": \"Innsbruck is a great suggestion! I've heard the trails there are epic. I've already read Endurance, but The Goldfinch sounds intriguing. Can you tell me a bit more about the plot without giving too much away? Also, are there any good sci-fi or tech-related non-fiction books you'd recommend?\"},\n",
    "    {\"role\": \"assistant\", \"content\": \"Of course. The Goldfinch begins with a young boy who survives a terrorist bombing at an art museum. In the aftermath, he takes a famous painting, and the story follows his life as he navigates grief, love, and the criminal underworld, all while secretly holding onto the artwork. It's a beautifully written and complex story.\\n\\nFor a sci-fi recommendation, you might enjoy Project Hail Mary by Andy Weir. It's a thrilling story of a lone astronaut on a mission to save humanity, filled with clever problem-solving and scientific detail. As for tech non-fiction, given your professional background, you might find The Age of AI: And Our Human Future by Henry Kissinger, Eric Schmidt, and Daniel Huttenlocher to be a thought-provoking read. It explores the societal implications of AI from a policy and philosophical perspective.\"}\n",
    "]\n",
    "result = memory.add(conv1, user_id=\"philipp\")\n",
    "\n",
    "conv2 =  [\n",
    "    {\"role\": \"user\", \"content\": \"I want to write a new post for my blog, but I want it to be more personal this time. I was thinking of drawing parallels between my experiences with mountain climbing and the challenges of developing and deploying large language models. What do you think of that idea?\"},\n",
    "    {\"role\": \"assistant\", \"content\": \"That's a fantastic idea for a blog post! It's a unique angle that could really resonate with your audience. You could structure it around a few key themes:\\n\\n1. The Ascent as the Training Process: You could compare the long, arduous process of training a large model with the physical and mental challenges of a difficult climb. Both require immense preparation, endurance, and the ability to push through plateaus.\\n2. Navigating Unseen Terrain as Dealing with Unexpected Model Behavior: Just as a climber might encounter unexpected obstacles on a route, developers often face surprising or undesirable model outputs. You could talk about the importance of having the right 'gear' (debugging tools, evaluation metrics) to navigate these challenges.\\n3. Reaching the Summit as Successful Deployment: The satisfaction of reaching a summit after a hard climb can be compared to the successful deployment of a model that solves a real-world problem. You could emphasize that this is not the end, but rather a new vantage point to see the next set of challenges.\\n\\nHow does that structure feel to you? We could also brainstorm some catchy titles.\"},\n",
    "    {\"role\": \"user\", \"content\": \"I love that structure! 'The Ascent as the Training Process' is a particularly strong analogy. For a title, I was thinking of something like 'Climbing the AI Mountain' or 'Lessons from the Summit: AI and the Art of the Climb.' What do you think?\"},\n",
    "    {\"role\": \"assistant\", \"content\": \"Both are great titles! 'Lessons from the Summit: AI and the Art of the Climb' is particularly evocative and captures the reflective and personal tone you're aiming for. It suggests that you'll be sharing hard-won insights. You could even open the blog post with a short, vivid anecdote from one of your climbs to immediately draw the reader in.\"}\n",
    "]\n",
    "result = memory.add(conv2, user_id=\"philipp\")\n",
    "\n",
    "conv3 = [\n",
    "    {\"role\": \"user\", \"content\": \"I'm preparing a talk for an upcoming AI conference. The topic is 'The Future of Agentic AI in the Enterprise'. I want to cover the current landscape, key challenges, and a forward-looking perspective. Can you help me brainstorm a compelling narrative and structure for the talk?\"},\n",
    "    {\"role\": \"assistant\", \"content\": \"That sounds like a fascinating topic! Here's a possible structure for your talk to create a strong narrative arc:\\n\\n1. The 'Why' Now: Start with a powerful hook. Perhaps a real-world example of a complex business problem that agentic AI can solve today. This sets the stage and grabs the audience's attention.\\n2. The Landscape of Agentic AI: Briefly cover the foundational concepts – what makes an AI 'agentic'? Mention key frameworks and models that are driving this space. Given your background, you could draw comparisons between different approaches.\\n3. The 'How': Architecting for Success: This is where you can dive into the technical meat. Discuss design patterns for building robust and scalable agentic systems. You could touch upon topics like memory, tool use, and multi-agent collaboration.\\n4. The Hurdles to Overcome: Address the challenges head-on. This will make your talk more balanced and credible. Think about issues like reliability, security, and the 'black box' problem.\\n5. The Future, Today: Paint a picture of the near-future possibilities. What are the next big breakthroughs we can expect? You could end with a call to action for developers to start building and experimenting with agentic AI.\\n\\nHow does that sound as a starting point?\"},\n",
    "    {\"role\": \"user\", \"content\": \"This is a great starting point, thank you! I especially like the idea of starting with a strong 'Why Now'. For the 'Hurdles' section, I'm thinking of focusing on the challenges of evaluation and ensuring responsible AI development in agentic systems. Can you suggest some recent research papers or articles on evaluating agentic AI systems that I could reference?\"},\n",
    "    {\"role\": \"assistant\", \"content\": \"Excellent addition. Focusing on evaluation and responsible AI is crucial. Here are a few highly-cited papers on evaluating agentic AI that you could explore:\\n\\n* 'A Survey on Evaluation of Large Language Models': While not exclusively on agents, it provides a comprehensive overview of evaluation metrics that are highly relevant.\\n* 'AgentBench: Evaluating LLMs as Agents': This paper introduces a benchmark specifically designed for evaluating LLMs as agents across a variety of tasks.\\n* 'On the Dangers of Stochastic Parrots: Can Language Models Be Too Big? 🦜': A foundational paper on the ethical considerations of large language models, which is very relevant to responsible AI in agentic systems.\\n\\nI can also help you find more specific papers if you have a particular aspect of evaluation in mind.\"},\n",
    "    {\"role\": \"user\", \"content\": \"Perfect, this is exactly what I was looking for. I'll start with these and let you know if I need more.\"}\n",
    "]\n",
    "result = memory.add(conv3, user_id=\"philipp\")"
   ]
  },
  {
   "cell_type": "markdown",
   "metadata": {},
   "source": [
    "We can manually search throught the memory to find relevant information. Let's try to find information about me."
   ]
  },
  {
   "cell_type": "code",
   "execution_count": 18,
   "metadata": {},
   "outputs": [
    {
     "name": "stdout",
     "output_type": "stream",
     "text": [
      "Has a professional background\n",
      "Blog post will be personal\n",
      "Wants to write a new blog post\n"
     ]
    }
   ],
   "source": [
    "related_memories = memory.search(query=\"What do you know about me?\", user_id=\"philipp\")\n",
    "\n",
    "# Print the first 3 memories\n",
    "for m in related_memories[\"results\"][:3]:\n",
    "    print(m[\"memory\"])"
   ]
  },
  {
   "cell_type": "markdown",
   "metadata": {},
   "source": [
    "Great! Now let's do some test on how including memory into our conversation changes the output. Our memmory should now include that Philipp is going to give a talk about agentic AI in the enterprise and some context about my hobbies. P.S. I prefer weightlifting over mountain biking.\n",
    "\n",
    "Let see what Gemini will do when we ask it to help brainstorm about the upcoming talk. "
   ]
  },
  {
   "cell_type": "code",
   "execution_count": 23,
   "metadata": {},
   "outputs": [
    {
     "name": "stdout",
     "output_type": "stream",
     "text": [
      "This is a fantastic request! Connecting your personal interests subtly makes your talk more memorable and authentic. The key is to find a *metaphor* or *analogy* from your interest that genuinely aligns with the core concepts of \"Agentic AI\" (autonomy, decision-making, action, smart delegation) and \"Enterprise\" (efficiency, scale, transformation, strategy).\n",
      "\n",
      "Let's brainstorm by thinking about different categories of personal interests and how they might connect. You tell me which one (or another one!) resonates most with you!\n",
      "\n",
      "---\n",
      "\n",
      "**How to Brainstorm Your Connection:**\n",
      "\n",
      "First, consider your top 2-3 personal interests. Think broad:\n",
      "*   **Hobbies:** Hiking, cooking, gaming, music, art, photography, reading, gardening, sports (e.g., chess, cycling), building things, collecting.\n",
      "*   **Fandoms:** Sci-fi, fantasy, specific movies/TV shows, books, historical periods.\n",
      "*   **Values/Philosophies:** Minimalism, sustainability, lifelong learning, systems thinking.\n",
      "*   **Travel/Culture:** A specific region, an aspect of a culture.\n",
      "\n",
      "Now, let's explore some examples:\n",
      "\n",
      "---\n",
      "\n",
      "### **Scenario 1: You're into Nature/Hiking/Exploration**\n",
      "\n",
      "**The Connection:** Agentic AI is like an intelligent guide or an advanced compass, helping enterprises navigate complex terrains, discover new paths, and reach previously inaccessible summits of efficiency or innovation. It's about charting new frontiers.\n",
      "\n",
      "**Title Ideas:**\n",
      "\n",
      "1.  **\"Agentic AI: Charting the Enterprise Frontier\"**\n",
      "    *   *Why it works:* \"Charting\" implies exploration and mapping, \"Frontier\" aligns with new territory and innovation. Subtle connection to exploration.\n",
      "2.  **\"Ascending with AI: The Summit of Enterprise Intelligence\"**\n",
      "    *   *Why it works:* \"Ascending\" and \"Summit\" directly evoke climbing/hiking. \"Enterprise Intelligence\" clearly states the business impact.\n",
      "3.  **\"The Autonomous Compass: Navigating Enterprise Evolution\"**\n",
      "    *   *Why it works:* \"Autonomous Compass\" directly links to agentic AI and navigation. \"Enterprise Evolution\" highlights the transformative journey.\n",
      "\n",
      "**Key Visual Ideas:**\n",
      "\n",
      "*   **Visual 1 (Subtle):** A stylized path winding up a mountain or through a digital landscape. The mountain peak could subtly resemble a neural network or a glowing AI core. At the base, abstract elements of a city/enterprise.\n",
      "    *   *Color Palette:* Earthy greens and blues with luminous digital accents (cyan, gold).\n",
      "*   **Visual 2 (More Direct):** A sleek, modern compass, but instead of magnetic north, its needle points towards a glowing AI brain icon or a sophisticated network graph. The background could be a blurred cityscape.\n",
      "*   **Visual 3 (Conceptual):** A single, strong tree with deep roots, but the leaves are individual glowing data points forming a cohesive canopy. Sunlight (representing AI intelligence) filters through, illuminating new growth.\n",
      "\n",
      "---\n",
      "\n",
      "### **Scenario 2: You're into Cooking/Culinary Arts**\n",
      "\n",
      "**The Connection:** Agentic AI is like a highly skilled sous chef or a master sommelier – it understands the \"recipe,\" handles complex components, makes precise decisions, and collaborates to create an exquisite outcome (enterprise success). It's about the art and science of creation.\n",
      "\n",
      "**Title Ideas:**\n",
      "\n",
      "1.  **\"The Agentic Kitchen: Crafting Tomorrow's Enterprise\"**\n",
      "    *   *Why it works:* Playful, evocative. \"Kitchen\" implies creation and process, \"Crafting\" emphasizes skilled work.\n",
      "2.  **\"AI as Sous Chef: Orchestrating Enterprise Excellence\"**\n",
      "    *   *Why it works:* Direct, uses a culinary role. \"Orchestrating\" implies complex coordination.\n",
      "3.  **\"Recipe for Autonomy: Blending AI into Business Strategy\"**\n",
      "    *   *Why it works:* Uses \"recipe\" and \"blending\" for a clear culinary metaphor.\n",
      "\n",
      "**Key Visual Ideas:**\n",
      "\n",
      "*   **Visual 1 (Subtle):** A minimalist cutting board with abstract ingredients – one could be a circuit board, another a data stream, a third a cogwheel. A chef's knife, but its blade is a glowing AI interface.\n",
      "    *   *Color Palette:* Clean whites, natural wood tones, with sharp, precise digital blues/greens.\n",
      "*   **Visual 2 (More Direct):** A beautifully plated, complex dish, but elements within it are clearly digital – perhaps a delicate network of data strands or glowing algorithmic patterns forming the garnish.\n",
      "*   **Visual 3 (Conceptual):** A hand (human) and a glowing, data-streamed hand (AI) working together over a digital \"stove\" or a blueprint of an enterprise, creating something new.\n",
      "\n",
      "---\n",
      "\n",
      "### **Scenario 3: You're into Music/Orchestration**\n",
      "\n",
      "**The Connection:** Agentic AI acts as a masterful conductor, bringing disparate instruments (departments, data, tasks) into harmony, allowing them to play autonomously yet cohesively, resulting in a powerful symphony of enterprise productivity and innovation.\n",
      "\n",
      "**Title Ideas:**\n",
      "\n",
      "1.  **\"The AI Symphony: Orchestrating Enterprise Autonomy\"**\n",
      "    *   *Why it works:* Strong, direct musical metaphor. \"Orchestrating\" is perfect for agentic coordination.\n",
      "2.  **\"Composing the Future: Agentic AI's Enterprise Score\"**\n",
      "    *   *Why it works:* \"Composing\" and \"Score\" evoke creation and a grand plan.\n",
      "3.  **\"Tempo & Transformation: The Rhythm of Agentic AI\"**\n",
      "    *   *Why it works:* \"Tempo\" and \"Rhythm\" hint at dynamic control and flow, aligning with business agility.\n",
      "\n",
      "**Key Visual Ideas:**\n",
      "\n",
      "*   **Visual 1 (Subtle):** A conductor's baton, but the tip is a glowing, spherical AI core, emitting faint data streams or musical notes. The background could be abstract light lines suggesting a stage or a sound wave pattern.\n",
      "    *   *Color Palette:* Deep blues and purples with bright, energetic gold or white light.\n",
      "*   **Visual 2 (More Direct):** A musical staff, but the notes are individual AI agent icons, arranged in a harmonious, upward-sweeping melody. Below, a subtle bar graph or growth chart emerging from the \"music.\"\n",
      "*   **Visual 3 (Conceptual):** Abstract sound waves transforming into geometric patterns that then morph into interconnected nodes of a business network.\n",
      "\n",
      "---\n",
      "\n",
      "### **Scenario 4: You're into Gaming/Strategy Games**\n",
      "\n",
      "**The Connection:** Agentic AI provides a strategic advantage, like an advanced \"unit\" or \"avatar\" that can execute complex strategies autonomously, optimize resource allocation, and adapt to competitive landscapes, leading to \"victory\" or \"leveling up\" the enterprise.\n",
      "\n",
      "**Title Ideas:**\n",
      "\n",
      "1.  **\"Agentic AI: Unlocking the Enterprise Metagame\"**\n",
      "    *   *Why it works:* \"Metagame\" is a specific gamer term for strategy beyond the immediate game, perfect for higher-level AI impact.\n",
      "2.  **\"Next Level Enterprise: Agentic AI's Strategic Edge\"**\n",
      "    *   *Why it works:* \"Next Level\" and \"Strategic Edge\" are direct gaming references for improvement and advantage.\n",
      "3.  **\"Playing to Win: Agentic AI as Your Enterprise Avatar\"**\n",
      "    *   *Why it works:* \"Playing to Win\" and \"Avatar\" are strong gaming terms, implying a controlled, powerful entity.\n",
      "\n",
      "**Key Visual Ideas:**\n",
      "\n",
      "*   **Visual 1 (Subtle):** A chessboard, but the pieces are stylized AI icons (e.g., a pawn is a simple data point, a king is a complex neural network). The board lines could be subtle circuit board traces.\n",
      "    *   *Color Palette:* Dark, sleek greys and blacks with sharp, glowing digital green or blue accents.\n",
      "*   **Visual 2 (More Direct):** A stylized \"power-up\" or \"achievement unlocked\" icon, but instead of stars or coins, it's composed of interconnected AI nodes, illuminating a corporate building blueprint in the background.\n",
      "*   **Visual 3 (Conceptual):** A pixelated, blocky character (like from an 8-bit game) composed of data points, standing on a landscape that vaguely resembles a cityscape or office floorplan. It emits a \"strategy\" glow.\n",
      "\n",
      "---\n",
      "\n",
      "### **Tips for Success, No Matter Your Interest:**\n",
      "\n",
      "1.  **Authenticity is Key:** Choose an interest you genuinely love and can talk about briefly if asked. The subtlety prevents it from feeling forced.\n",
      "2.  **Keep it Simple:** The visual should be impactful and clear, even from a distance. The title should be concise and memorable.\n",
      "3.  **Don't Overshadow the Message:** The personal interest should *enhance* the understanding of Agentic AI, not distract from it.\n",
      "4.  **Practice the Connection:** Think about how you'll introduce the subtle link in your talk. (e.g., \"As an avid hiker, I see Agentic AI as our new compass, guiding us through uncharted enterprise territories...\")\n",
      "\n",
      "---\n",
      "\n",
      "**Now it's your turn!**\n",
      "\n",
      "*   **What are some of your personal interests?**\n",
      "*   **Which of the scenarios above (or another one you thought of) feels most aligned with how you'd like to frame your talk?**\n",
      "\n",
      "Once you give me some input, we can refine the titles and visuals even further!\n"
     ]
    }
   ],
   "source": [
    "system_prompt = \"You are a helpful AI Assistant.\"\n",
    "\n",
    "prompt = \"Can you help me brainstorm a title and a key visual for my upcoming conference talk on 'The Future of Agentic AI in the Enterprise'? I'd like it to subtly connect to my personal interests in a way that feels authentic.\"\n",
    "\n",
    "response = client.models.generate_content(\n",
    "    model=\"gemini-2.5-flash\",\n",
    "    contents=prompt,\n",
    "    config={\n",
    "        \"system_instruction\": system_prompt\n",
    "    }\n",
    ")\n",
    "\n",
    "print(response.text)"
   ]
  },
  {
   "cell_type": "markdown",
   "metadata": {},
   "source": [
    "As expected, Gemini has no idea about the upcoming talk and my interests. Now lets add the memory to the conversation. "
   ]
  },
  {
   "cell_type": "code",
   "execution_count": 24,
   "metadata": {},
   "outputs": [
    {
     "name": "stdout",
     "output_type": "stream",
     "text": [
      "This is a great idea to subtly weave in your personal interests! The mountain climbing/exploration theme is a perfect fit for discussing the challenges and future prospects of a complex, evolving field like Agentic AI.\n",
      "\n",
      "Here are a few options for your talk title and a corresponding key visual idea:\n",
      "\n",
      "---\n",
      "\n",
      "### **Option 1: Emphasizing Progress & Ambition**\n",
      "\n",
      "*   **Proposed Title:** **\"The Agentic Ascent: Scaling New Heights in Enterprise AI\"**\n",
      "    *   **Why it works:** \"Ascent\" and \"Scaling New Heights\" directly draw from your interest in climbing and the mountain metaphor, while clearly stating the core topic. It conveys a sense of progress, ambition, and looking towards the future.\n",
      "*   **Key Visual Idea:**\n",
      "    *   **Concept:** A stylized, majestic mountain peak, but instead of rock and snow, it's intricately formed from glowing, interconnected data lines, circuit board traces, or abstract geometric shapes that evoke AI's complexity and digital nature.\n",
      "    *   **Details:** Imagine a \"digital Everest.\" At the very top, there's a subtle, almost ethereal glow, perhaps radiating from a stylized, abstract \"agent\" icon or a converging point of the data lines, symbolizing the pinnacle of agentic AI. The base of the mountain could subtly transition into an abstract representation of an enterprise environment – perhaps subtle building outlines, network connections, or a grid pattern suggesting a corporate landscape. The background could be a gradient of deep blues and purples, with subtle wisps of \"data clouds\" or a digital aurora, emphasizing the futuristic and innovative nature. A digital sun could be subtly rising behind the peak, casting a hopeful glow.\n",
      "    *   **Color Palette:** Dominant cool tones (blues, greens, purples) accented with vibrant, electric highlights (teals, light blues, golds) for the glowing elements.\n",
      "\n",
      "---\n",
      "\n",
      "### **Option 2: Highlighting Navigation & Responsibility**\n",
      "\n",
      "*   **Proposed Title:** **\"Navigating the AI Peaks: Responsible Agentic Systems in the Enterprise\"**\n",
      "    *   **Why it works:** \"Navigating the AI Peaks\" speaks to the journey and challenges (tying into your \"Hurdles\" section and the \"Endurance\" book), while explicitly calling out \"Responsible\" AI, which is a key focus for you.\n",
      "*   **Key Visual Idea:**\n",
      "    *   **Concept:** A dramatic, but clean, visual of a winding path or series of interconnected pathways leading up a prominent, futuristic-looking mountain.\n",
      "    *   **Details:** The \"pathways\" themselves could be glowing data streams or secure network lines, symbolizing the structured deployment of AI. Along the path, subtle icons could hint at challenges or checkpoints (e.g., a faint \"question mark\" for evaluation, a \"shield\" for security). At the very summit, a stylized, balanced scale or a gentle, guiding light could represent \"responsible\" AI. The mountain itself would still be composed of tech-inspired elements (circuitry, data points). The background could show a deep, thoughtful twilight sky, perhaps with a distant, glowing \"enterprise city\" at the base of the mountain, showing the destination of this responsible development.\n",
      "    *   **Color Palette:** Slightly darker blues and purples, with contrasting greens or oranges for the glowing path, to imply a thoughtful and diligent journey.\n",
      "\n",
      "---\n",
      "\n",
      "Both options allow you to subtly connect to your interests in mountain climbing, exploration, and overcoming challenges, while directly addressing the professional topic of Agentic AI in the Enterprise. Choose the one that best reflects the overall tone you want for your talk – more ambitious and forward-looking (Option 1) or more focused on the journey and ethical considerations (Option 2).\n"
     ]
    }
   ],
   "source": [
    "# retrieve memories\n",
    "helpful_memories = memory.search(query=prompt, user_id=\"philipp\")\n",
    "memories_str = \"\\n\".join(f\"- {entry['memory']}\" for entry in helpful_memories[\"results\"])\n",
    "# extend system prompt\n",
    "extended_system_prompt = f\"You are a helpful AI Assistant. You have the following memories about the user:\\n{helpful_memories}\"\n",
    "\n",
    "# generate response\n",
    "response = client.models.generate_content(\n",
    "    model=\"gemini-2.5-flash\",\n",
    "    contents=prompt,\n",
    "    config={\n",
    "        \"system_instruction\": extended_system_prompt\n",
    "    }\n",
    ")\n",
    "\n",
    "print(response.text)"
   ]
  },
  {
   "cell_type": "markdown",
   "metadata": {},
   "source": [
    "Awesome! Instead of needing to follow up with the user, Gemini generated two respones based on the memories, including the user's personal interests. "
   ]
  },
  {
   "cell_type": "markdown",
   "metadata": {},
   "source": [
    "## Long-term memory Chatbot with Gemini 2.5\n",
    "\n",
    "Now, lets combine all of this into an interactive chatbot. We separate the chatbot into two notebook cells, that we chat with Gemini, stop and start the chatbot again, but it has all the memories from the previous chat. "
   ]
  },
  {
   "cell_type": "code",
   "execution_count": 29,
   "metadata": {},
   "outputs": [],
   "source": [
    "from google import genai\n",
    "from mem0 import Memory\n",
    "\n",
    "client = genai.Client()\n",
    "config = {\n",
    "    \"embedder\": {\"provider\": \"gemini\", \"config\": {\"model\": \"models/text-embedding-004\"}},\n",
    "    \"llm\": {\"provider\": \"gemini\", \"config\": {\"model\": \"gemini-2.5-flash\", \"temperature\": 0.0, \"max_tokens\": 2000}},\n",
    "    \"vector_store\": {\"config\": {\"embedding_model_dims\": 768}}\n",
    "}\n",
    "memory = Memory.from_config(config)\n",
    "\n",
    "system_prompt = \"You are a helpful AI. Answer the question based on query and memories.\""
   ]
  },
  {
   "cell_type": "markdown",
   "metadata": {},
   "source": [
    "An example to test is you can start with saying something about you and where you are, e.g. \"I am live in Nuremberg and today we have 30°C, how can i cool down?\". Then stop (type 'exit'), restart (rerun the cell) the conversation and ask about \"what the closest swimming pool is\". "
   ]
  },
  {
   "cell_type": "code",
   "execution_count": null,
   "metadata": {},
   "outputs": [],
   "source": [
    "def chat_with_memories(history: list[dict], user_id: str = \"default_user\") -> str:\n",
    "    # Retrieve relevant memories\n",
    "    print(history[-1][\"parts\"][0][\"text\"])\n",
    "    relevant_memories = memory.search(query=history[-1][\"parts\"][0][\"text\"], user_id=user_id, limit=5)\n",
    "    memories_str = \"\\n\".join(f\"- {entry['memory']}\" for entry in relevant_memories[\"results\"])\n",
    "\n",
    "    # Generate Assistant response\n",
    "    memory_system_prompt = f\"{system_prompt}\\nUser Memories:\\n{memories_str}\"\n",
    "    response = client.models.generate_content(\n",
    "        model=\"gemini-2.5-flash\",\n",
    "        contents=history,\n",
    "        config={\"system_instruction\": memory_system_prompt}\n",
    "    )\n",
    "    history.append({\"role\": \"model\", \"parts\": [{\"text\": response.text}]})\n",
    "    # Create new memories from the conversation we need to convert the history to a list of messages\n",
    "    messages = [{\"role\": \"user\" if i % 2 == 0 else \"assistant\", \"content\": part[\"parts\"][0][\"text\"]} for i, part in enumerate(history)]\n",
    "    memory.add(messages, user_id=user_id)\n",
    "\n",
    "    return history\n",
    "\n",
    "def main():\n",
    "    print(\"Chat with Gemini (type 'exit' to quit)\")\n",
    "    history = []\n",
    "    while True:\n",
    "        user_input = input(\"You: \").strip()\n",
    "        if user_input.lower() == 'exit':\n",
    "            print(\"Goodbye!\")\n",
    "            break\n",
    "        history.append({\"role\": \"user\", \"parts\": [{\"text\": user_input}]})\n",
    "        response = chat_with_memories(history)\n",
    "        print(f\"Gemini: {response[-1]['parts'][0]['text']}\")\n",
    "\n",
    "\n",
    "main()"
   ]
  },
  {
   "cell_type": "code",
   "execution_count": null,
   "metadata": {},
   "outputs": [],
   "source": []
  }
 ],
 "metadata": {
  "kernelspec": {
   "display_name": ".venv",
   "language": "python",
   "name": "python3"
  },
  "language_info": {
   "codemirror_mode": {
    "name": "ipython",
    "version": 3
   },
   "file_extension": ".py",
   "mimetype": "text/x-python",
   "name": "python",
   "nbconvert_exporter": "python",
   "pygments_lexer": "ipython3",
   "version": "3.13.2"
  }
 },
 "nbformat": 4,
 "nbformat_minor": 2
}
